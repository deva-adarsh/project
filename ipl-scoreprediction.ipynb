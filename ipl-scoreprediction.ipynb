{
 "cells": [
  {
   "cell_type": "markdown",
   "id": "3b7d4354",
   "metadata": {
    "papermill": {
     "duration": 0.016236,
     "end_time": "2022-08-27T12:16:00.136707",
     "exception": false,
     "start_time": "2022-08-27T12:16:00.120471",
     "status": "completed"
    },
    "tags": []
   },
   "source": [
    "# Importing the Libraries"
   ]
  },
  {
   "cell_type": "code",
   "execution_count": 1,
   "id": "1131e995",
   "metadata": {
    "_cell_guid": "b1076dfc-b9ad-4769-8c92-a6c4dae69d19",
    "_uuid": "8f2839f25d086af736a60e9eeb907d3b93b6e0e5",
    "execution": {
     "iopub.execute_input": "2022-08-27T12:16:00.166535Z",
     "iopub.status.busy": "2022-08-27T12:16:00.165802Z",
     "iopub.status.idle": "2022-08-27T12:16:00.175701Z",
     "shell.execute_reply": "2022-08-27T12:16:00.174901Z"
    },
    "papermill": {
     "duration": 0.027338,
     "end_time": "2022-08-27T12:16:00.178025",
     "exception": false,
     "start_time": "2022-08-27T12:16:00.150687",
     "status": "completed"
    },
    "tags": []
   },
   "outputs": [],
   "source": [
    "import warnings\n",
    "warnings.filterwarnings('ignore')\n",
    "import numpy as np\n",
    "import pandas as pd\n",
    "import matplotlib.pyplot as plt"
   ]
  },
  {
   "cell_type": "markdown",
   "id": "cfbac655",
   "metadata": {
    "papermill": {
     "duration": 0.013873,
     "end_time": "2022-08-27T12:16:00.205704",
     "exception": false,
     "start_time": "2022-08-27T12:16:00.191831",
     "status": "completed"
    },
    "tags": []
   },
   "source": [
    "# Import the Dataset"
   ]
  },
  {
   "cell_type": "code",
   "execution_count": 2,
   "id": "b94dfff5",
   "metadata": {
    "execution": {
     "iopub.execute_input": "2022-08-27T12:16:00.234944Z",
     "iopub.status.busy": "2022-08-27T12:16:00.234295Z",
     "iopub.status.idle": "2022-08-27T12:16:00.498557Z",
     "shell.execute_reply": "2022-08-27T12:16:00.497457Z"
    },
    "papermill": {
     "duration": 0.282197,
     "end_time": "2022-08-27T12:16:00.501636",
     "exception": false,
     "start_time": "2022-08-27T12:16:00.219439",
     "status": "completed"
    },
    "tags": []
   },
   "outputs": [],
   "source": [
    "data = pd.read_csv('../input/iplscores/ipl.csv')"
   ]
  },
  {
   "cell_type": "code",
   "execution_count": 3,
   "id": "16fa316f",
   "metadata": {
    "execution": {
     "iopub.execute_input": "2022-08-27T12:16:00.532485Z",
     "iopub.status.busy": "2022-08-27T12:16:00.531614Z",
     "iopub.status.idle": "2022-08-27T12:16:00.564618Z",
     "shell.execute_reply": "2022-08-27T12:16:00.563867Z"
    },
    "papermill": {
     "duration": 0.051289,
     "end_time": "2022-08-27T12:16:00.567382",
     "exception": false,
     "start_time": "2022-08-27T12:16:00.516093",
     "status": "completed"
    },
    "tags": []
   },
   "outputs": [
    {
     "data": {
      "text/html": [
       "<div>\n",
       "<style scoped>\n",
       "    .dataframe tbody tr th:only-of-type {\n",
       "        vertical-align: middle;\n",
       "    }\n",
       "\n",
       "    .dataframe tbody tr th {\n",
       "        vertical-align: top;\n",
       "    }\n",
       "\n",
       "    .dataframe thead th {\n",
       "        text-align: right;\n",
       "    }\n",
       "</style>\n",
       "<table border=\"1\" class=\"dataframe\">\n",
       "  <thead>\n",
       "    <tr style=\"text-align: right;\">\n",
       "      <th></th>\n",
       "      <th>mid</th>\n",
       "      <th>date</th>\n",
       "      <th>venue</th>\n",
       "      <th>bat_team</th>\n",
       "      <th>bowl_team</th>\n",
       "      <th>batsman</th>\n",
       "      <th>bowler</th>\n",
       "      <th>runs</th>\n",
       "      <th>wickets</th>\n",
       "      <th>overs</th>\n",
       "      <th>runs_last_5</th>\n",
       "      <th>wickets_last_5</th>\n",
       "      <th>striker</th>\n",
       "      <th>non-striker</th>\n",
       "      <th>total</th>\n",
       "    </tr>\n",
       "  </thead>\n",
       "  <tbody>\n",
       "    <tr>\n",
       "      <th>0</th>\n",
       "      <td>1</td>\n",
       "      <td>2008-04-18</td>\n",
       "      <td>M Chinnaswamy Stadium</td>\n",
       "      <td>Kolkata Knight Riders</td>\n",
       "      <td>Royal Challengers Bangalore</td>\n",
       "      <td>SC Ganguly</td>\n",
       "      <td>P Kumar</td>\n",
       "      <td>1</td>\n",
       "      <td>0</td>\n",
       "      <td>0.1</td>\n",
       "      <td>1</td>\n",
       "      <td>0</td>\n",
       "      <td>0</td>\n",
       "      <td>0</td>\n",
       "      <td>222</td>\n",
       "    </tr>\n",
       "    <tr>\n",
       "      <th>1</th>\n",
       "      <td>1</td>\n",
       "      <td>2008-04-18</td>\n",
       "      <td>M Chinnaswamy Stadium</td>\n",
       "      <td>Kolkata Knight Riders</td>\n",
       "      <td>Royal Challengers Bangalore</td>\n",
       "      <td>BB McCullum</td>\n",
       "      <td>P Kumar</td>\n",
       "      <td>1</td>\n",
       "      <td>0</td>\n",
       "      <td>0.2</td>\n",
       "      <td>1</td>\n",
       "      <td>0</td>\n",
       "      <td>0</td>\n",
       "      <td>0</td>\n",
       "      <td>222</td>\n",
       "    </tr>\n",
       "    <tr>\n",
       "      <th>2</th>\n",
       "      <td>1</td>\n",
       "      <td>2008-04-18</td>\n",
       "      <td>M Chinnaswamy Stadium</td>\n",
       "      <td>Kolkata Knight Riders</td>\n",
       "      <td>Royal Challengers Bangalore</td>\n",
       "      <td>BB McCullum</td>\n",
       "      <td>P Kumar</td>\n",
       "      <td>2</td>\n",
       "      <td>0</td>\n",
       "      <td>0.2</td>\n",
       "      <td>2</td>\n",
       "      <td>0</td>\n",
       "      <td>0</td>\n",
       "      <td>0</td>\n",
       "      <td>222</td>\n",
       "    </tr>\n",
       "    <tr>\n",
       "      <th>3</th>\n",
       "      <td>1</td>\n",
       "      <td>2008-04-18</td>\n",
       "      <td>M Chinnaswamy Stadium</td>\n",
       "      <td>Kolkata Knight Riders</td>\n",
       "      <td>Royal Challengers Bangalore</td>\n",
       "      <td>BB McCullum</td>\n",
       "      <td>P Kumar</td>\n",
       "      <td>2</td>\n",
       "      <td>0</td>\n",
       "      <td>0.3</td>\n",
       "      <td>2</td>\n",
       "      <td>0</td>\n",
       "      <td>0</td>\n",
       "      <td>0</td>\n",
       "      <td>222</td>\n",
       "    </tr>\n",
       "    <tr>\n",
       "      <th>4</th>\n",
       "      <td>1</td>\n",
       "      <td>2008-04-18</td>\n",
       "      <td>M Chinnaswamy Stadium</td>\n",
       "      <td>Kolkata Knight Riders</td>\n",
       "      <td>Royal Challengers Bangalore</td>\n",
       "      <td>BB McCullum</td>\n",
       "      <td>P Kumar</td>\n",
       "      <td>2</td>\n",
       "      <td>0</td>\n",
       "      <td>0.4</td>\n",
       "      <td>2</td>\n",
       "      <td>0</td>\n",
       "      <td>0</td>\n",
       "      <td>0</td>\n",
       "      <td>222</td>\n",
       "    </tr>\n",
       "    <tr>\n",
       "      <th>...</th>\n",
       "      <td>...</td>\n",
       "      <td>...</td>\n",
       "      <td>...</td>\n",
       "      <td>...</td>\n",
       "      <td>...</td>\n",
       "      <td>...</td>\n",
       "      <td>...</td>\n",
       "      <td>...</td>\n",
       "      <td>...</td>\n",
       "      <td>...</td>\n",
       "      <td>...</td>\n",
       "      <td>...</td>\n",
       "      <td>...</td>\n",
       "      <td>...</td>\n",
       "      <td>...</td>\n",
       "    </tr>\n",
       "    <tr>\n",
       "      <th>76009</th>\n",
       "      <td>617</td>\n",
       "      <td>2017-05-21</td>\n",
       "      <td>Rajiv Gandhi International Stadium, Uppal</td>\n",
       "      <td>Mumbai Indians</td>\n",
       "      <td>Rising Pune Supergiant</td>\n",
       "      <td>KH Pandya</td>\n",
       "      <td>DT Christian</td>\n",
       "      <td>121</td>\n",
       "      <td>7</td>\n",
       "      <td>19.2</td>\n",
       "      <td>40</td>\n",
       "      <td>0</td>\n",
       "      <td>40</td>\n",
       "      <td>12</td>\n",
       "      <td>129</td>\n",
       "    </tr>\n",
       "    <tr>\n",
       "      <th>76010</th>\n",
       "      <td>617</td>\n",
       "      <td>2017-05-21</td>\n",
       "      <td>Rajiv Gandhi International Stadium, Uppal</td>\n",
       "      <td>Mumbai Indians</td>\n",
       "      <td>Rising Pune Supergiant</td>\n",
       "      <td>KH Pandya</td>\n",
       "      <td>DT Christian</td>\n",
       "      <td>127</td>\n",
       "      <td>7</td>\n",
       "      <td>19.3</td>\n",
       "      <td>46</td>\n",
       "      <td>0</td>\n",
       "      <td>46</td>\n",
       "      <td>12</td>\n",
       "      <td>129</td>\n",
       "    </tr>\n",
       "    <tr>\n",
       "      <th>76011</th>\n",
       "      <td>617</td>\n",
       "      <td>2017-05-21</td>\n",
       "      <td>Rajiv Gandhi International Stadium, Uppal</td>\n",
       "      <td>Mumbai Indians</td>\n",
       "      <td>Rising Pune Supergiant</td>\n",
       "      <td>KH Pandya</td>\n",
       "      <td>DT Christian</td>\n",
       "      <td>128</td>\n",
       "      <td>7</td>\n",
       "      <td>19.4</td>\n",
       "      <td>47</td>\n",
       "      <td>0</td>\n",
       "      <td>47</td>\n",
       "      <td>12</td>\n",
       "      <td>129</td>\n",
       "    </tr>\n",
       "    <tr>\n",
       "      <th>76012</th>\n",
       "      <td>617</td>\n",
       "      <td>2017-05-21</td>\n",
       "      <td>Rajiv Gandhi International Stadium, Uppal</td>\n",
       "      <td>Mumbai Indians</td>\n",
       "      <td>Rising Pune Supergiant</td>\n",
       "      <td>MG Johnson</td>\n",
       "      <td>DT Christian</td>\n",
       "      <td>129</td>\n",
       "      <td>7</td>\n",
       "      <td>19.5</td>\n",
       "      <td>48</td>\n",
       "      <td>0</td>\n",
       "      <td>47</td>\n",
       "      <td>13</td>\n",
       "      <td>129</td>\n",
       "    </tr>\n",
       "    <tr>\n",
       "      <th>76013</th>\n",
       "      <td>617</td>\n",
       "      <td>2017-05-21</td>\n",
       "      <td>Rajiv Gandhi International Stadium, Uppal</td>\n",
       "      <td>Mumbai Indians</td>\n",
       "      <td>Rising Pune Supergiant</td>\n",
       "      <td>KH Pandya</td>\n",
       "      <td>DT Christian</td>\n",
       "      <td>129</td>\n",
       "      <td>8</td>\n",
       "      <td>19.6</td>\n",
       "      <td>47</td>\n",
       "      <td>1</td>\n",
       "      <td>47</td>\n",
       "      <td>13</td>\n",
       "      <td>129</td>\n",
       "    </tr>\n",
       "  </tbody>\n",
       "</table>\n",
       "<p>76014 rows × 15 columns</p>\n",
       "</div>"
      ],
      "text/plain": [
       "       mid        date                                      venue  \\\n",
       "0        1  2008-04-18                      M Chinnaswamy Stadium   \n",
       "1        1  2008-04-18                      M Chinnaswamy Stadium   \n",
       "2        1  2008-04-18                      M Chinnaswamy Stadium   \n",
       "3        1  2008-04-18                      M Chinnaswamy Stadium   \n",
       "4        1  2008-04-18                      M Chinnaswamy Stadium   \n",
       "...    ...         ...                                        ...   \n",
       "76009  617  2017-05-21  Rajiv Gandhi International Stadium, Uppal   \n",
       "76010  617  2017-05-21  Rajiv Gandhi International Stadium, Uppal   \n",
       "76011  617  2017-05-21  Rajiv Gandhi International Stadium, Uppal   \n",
       "76012  617  2017-05-21  Rajiv Gandhi International Stadium, Uppal   \n",
       "76013  617  2017-05-21  Rajiv Gandhi International Stadium, Uppal   \n",
       "\n",
       "                    bat_team                    bowl_team      batsman  \\\n",
       "0      Kolkata Knight Riders  Royal Challengers Bangalore   SC Ganguly   \n",
       "1      Kolkata Knight Riders  Royal Challengers Bangalore  BB McCullum   \n",
       "2      Kolkata Knight Riders  Royal Challengers Bangalore  BB McCullum   \n",
       "3      Kolkata Knight Riders  Royal Challengers Bangalore  BB McCullum   \n",
       "4      Kolkata Knight Riders  Royal Challengers Bangalore  BB McCullum   \n",
       "...                      ...                          ...          ...   \n",
       "76009         Mumbai Indians       Rising Pune Supergiant    KH Pandya   \n",
       "76010         Mumbai Indians       Rising Pune Supergiant    KH Pandya   \n",
       "76011         Mumbai Indians       Rising Pune Supergiant    KH Pandya   \n",
       "76012         Mumbai Indians       Rising Pune Supergiant   MG Johnson   \n",
       "76013         Mumbai Indians       Rising Pune Supergiant    KH Pandya   \n",
       "\n",
       "             bowler  runs  wickets  overs  runs_last_5  wickets_last_5  \\\n",
       "0           P Kumar     1        0    0.1            1               0   \n",
       "1           P Kumar     1        0    0.2            1               0   \n",
       "2           P Kumar     2        0    0.2            2               0   \n",
       "3           P Kumar     2        0    0.3            2               0   \n",
       "4           P Kumar     2        0    0.4            2               0   \n",
       "...             ...   ...      ...    ...          ...             ...   \n",
       "76009  DT Christian   121        7   19.2           40               0   \n",
       "76010  DT Christian   127        7   19.3           46               0   \n",
       "76011  DT Christian   128        7   19.4           47               0   \n",
       "76012  DT Christian   129        7   19.5           48               0   \n",
       "76013  DT Christian   129        8   19.6           47               1   \n",
       "\n",
       "       striker  non-striker  total  \n",
       "0            0            0    222  \n",
       "1            0            0    222  \n",
       "2            0            0    222  \n",
       "3            0            0    222  \n",
       "4            0            0    222  \n",
       "...        ...          ...    ...  \n",
       "76009       40           12    129  \n",
       "76010       46           12    129  \n",
       "76011       47           12    129  \n",
       "76012       47           13    129  \n",
       "76013       47           13    129  \n",
       "\n",
       "[76014 rows x 15 columns]"
      ]
     },
     "execution_count": 3,
     "metadata": {},
     "output_type": "execute_result"
    }
   ],
   "source": [
    "data"
   ]
  },
  {
   "cell_type": "markdown",
   "id": "9fc53218",
   "metadata": {
    "papermill": {
     "duration": 0.013996,
     "end_time": "2022-08-27T12:16:00.595653",
     "exception": false,
     "start_time": "2022-08-27T12:16:00.581657",
     "status": "completed"
    },
    "tags": []
   },
   "source": [
    "# Data Summarization"
   ]
  },
  {
   "cell_type": "code",
   "execution_count": 4,
   "id": "f338cad4",
   "metadata": {
    "execution": {
     "iopub.execute_input": "2022-08-27T12:16:00.627744Z",
     "iopub.status.busy": "2022-08-27T12:16:00.626915Z",
     "iopub.status.idle": "2022-08-27T12:16:00.633025Z",
     "shell.execute_reply": "2022-08-27T12:16:00.632035Z"
    },
    "papermill": {
     "duration": 0.024295,
     "end_time": "2022-08-27T12:16:00.635034",
     "exception": false,
     "start_time": "2022-08-27T12:16:00.610739",
     "status": "completed"
    },
    "tags": []
   },
   "outputs": [
    {
     "data": {
      "text/plain": [
       "Index(['mid', 'date', 'venue', 'bat_team', 'bowl_team', 'batsman', 'bowler',\n",
       "       'runs', 'wickets', 'overs', 'runs_last_5', 'wickets_last_5', 'striker',\n",
       "       'non-striker', 'total'],\n",
       "      dtype='object')"
      ]
     },
     "execution_count": 4,
     "metadata": {},
     "output_type": "execute_result"
    }
   ],
   "source": [
    "data.columns"
   ]
  },
  {
   "cell_type": "code",
   "execution_count": 5,
   "id": "266b017a",
   "metadata": {
    "execution": {
     "iopub.execute_input": "2022-08-27T12:16:00.665525Z",
     "iopub.status.busy": "2022-08-27T12:16:00.665093Z",
     "iopub.status.idle": "2022-08-27T12:16:00.672340Z",
     "shell.execute_reply": "2022-08-27T12:16:00.671592Z"
    },
    "papermill": {
     "duration": 0.024446,
     "end_time": "2022-08-27T12:16:00.674096",
     "exception": false,
     "start_time": "2022-08-27T12:16:00.649650",
     "status": "completed"
    },
    "tags": []
   },
   "outputs": [
    {
     "data": {
      "text/plain": [
       "mid                 int64\n",
       "date               object\n",
       "venue              object\n",
       "bat_team           object\n",
       "bowl_team          object\n",
       "batsman            object\n",
       "bowler             object\n",
       "runs                int64\n",
       "wickets             int64\n",
       "overs             float64\n",
       "runs_last_5         int64\n",
       "wickets_last_5      int64\n",
       "striker             int64\n",
       "non-striker         int64\n",
       "total               int64\n",
       "dtype: object"
      ]
     },
     "execution_count": 5,
     "metadata": {},
     "output_type": "execute_result"
    }
   ],
   "source": [
    "data.dtypes"
   ]
  },
  {
   "cell_type": "code",
   "execution_count": 6,
   "id": "37fc66c3",
   "metadata": {
    "execution": {
     "iopub.execute_input": "2022-08-27T12:16:00.704651Z",
     "iopub.status.busy": "2022-08-27T12:16:00.703960Z",
     "iopub.status.idle": "2022-08-27T12:16:00.710073Z",
     "shell.execute_reply": "2022-08-27T12:16:00.709295Z"
    },
    "papermill": {
     "duration": 0.023766,
     "end_time": "2022-08-27T12:16:00.712189",
     "exception": false,
     "start_time": "2022-08-27T12:16:00.688423",
     "status": "completed"
    },
    "tags": []
   },
   "outputs": [
    {
     "data": {
      "text/plain": [
       "(76014, 15)"
      ]
     },
     "execution_count": 6,
     "metadata": {},
     "output_type": "execute_result"
    }
   ],
   "source": [
    "data.shape"
   ]
  },
  {
   "cell_type": "code",
   "execution_count": 7,
   "id": "2dbcc3e6",
   "metadata": {
    "execution": {
     "iopub.execute_input": "2022-08-27T12:16:00.743405Z",
     "iopub.status.busy": "2022-08-27T12:16:00.742768Z",
     "iopub.status.idle": "2022-08-27T12:16:00.771086Z",
     "shell.execute_reply": "2022-08-27T12:16:00.770315Z"
    },
    "papermill": {
     "duration": 0.04644,
     "end_time": "2022-08-27T12:16:00.773170",
     "exception": false,
     "start_time": "2022-08-27T12:16:00.726730",
     "status": "completed"
    },
    "tags": []
   },
   "outputs": [
    {
     "data": {
      "text/plain": [
       "mid               0\n",
       "date              0\n",
       "venue             0\n",
       "bat_team          0\n",
       "bowl_team         0\n",
       "batsman           0\n",
       "bowler            0\n",
       "runs              0\n",
       "wickets           0\n",
       "overs             0\n",
       "runs_last_5       0\n",
       "wickets_last_5    0\n",
       "striker           0\n",
       "non-striker       0\n",
       "total             0\n",
       "dtype: int64"
      ]
     },
     "execution_count": 7,
     "metadata": {},
     "output_type": "execute_result"
    }
   ],
   "source": [
    "data.isnull().sum()"
   ]
  },
  {
   "cell_type": "markdown",
   "id": "7efc1695",
   "metadata": {
    "papermill": {
     "duration": 0.014337,
     "end_time": "2022-08-27T12:16:00.802239",
     "exception": false,
     "start_time": "2022-08-27T12:16:00.787902",
     "status": "completed"
    },
    "tags": []
   },
   "source": [
    "# Preprocessing Data to the requirements"
   ]
  },
  {
   "cell_type": "markdown",
   "id": "ab0dc7b6",
   "metadata": {
    "papermill": {
     "duration": 0.014159,
     "end_time": "2022-08-27T12:16:00.830909",
     "exception": false,
     "start_time": "2022-08-27T12:16:00.816750",
     "status": "completed"
    },
    "tags": []
   },
   "source": [
    "**Removing the unwanted data**"
   ]
  },
  {
   "cell_type": "code",
   "execution_count": 8,
   "id": "f673a296",
   "metadata": {
    "execution": {
     "iopub.execute_input": "2022-08-27T12:16:00.862081Z",
     "iopub.status.busy": "2022-08-27T12:16:00.861282Z",
     "iopub.status.idle": "2022-08-27T12:16:00.876549Z",
     "shell.execute_reply": "2022-08-27T12:16:00.875853Z"
    },
    "papermill": {
     "duration": 0.033685,
     "end_time": "2022-08-27T12:16:00.879088",
     "exception": false,
     "start_time": "2022-08-27T12:16:00.845403",
     "status": "completed"
    },
    "tags": []
   },
   "outputs": [
    {
     "name": "stdout",
     "output_type": "stream",
     "text": [
      "Before removing unwanted columns: (76014, 15)\n",
      "After removing unwanted columns: (76014, 9)\n"
     ]
    }
   ],
   "source": [
    "col_remove = ['mid', 'striker', 'non-striker', 'batsman', 'bowler', 'date']\n",
    "print('Before removing unwanted columns: {}'.format(data.shape))\n",
    "data.drop(labels=col_remove, axis=1, inplace=True)\n",
    "print('After removing unwanted columns: {}'.format(data.shape))"
   ]
  },
  {
   "cell_type": "code",
   "execution_count": 9,
   "id": "f82e81c5",
   "metadata": {
    "execution": {
     "iopub.execute_input": "2022-08-27T12:16:00.910627Z",
     "iopub.status.busy": "2022-08-27T12:16:00.910163Z",
     "iopub.status.idle": "2022-08-27T12:16:00.917102Z",
     "shell.execute_reply": "2022-08-27T12:16:00.916114Z"
    },
    "papermill": {
     "duration": 0.025114,
     "end_time": "2022-08-27T12:16:00.919130",
     "exception": false,
     "start_time": "2022-08-27T12:16:00.894016",
     "status": "completed"
    },
    "tags": []
   },
   "outputs": [
    {
     "data": {
      "text/plain": [
       "Index(['venue', 'bat_team', 'bowl_team', 'runs', 'wickets', 'overs',\n",
       "       'runs_last_5', 'wickets_last_5', 'total'],\n",
       "      dtype='object')"
      ]
     },
     "execution_count": 9,
     "metadata": {},
     "output_type": "execute_result"
    }
   ],
   "source": [
    "data.columns"
   ]
  },
  {
   "cell_type": "code",
   "execution_count": 10,
   "id": "cd19be2d",
   "metadata": {
    "execution": {
     "iopub.execute_input": "2022-08-27T12:16:00.950159Z",
     "iopub.status.busy": "2022-08-27T12:16:00.949741Z",
     "iopub.status.idle": "2022-08-27T12:16:00.966438Z",
     "shell.execute_reply": "2022-08-27T12:16:00.965291Z"
    },
    "papermill": {
     "duration": 0.034676,
     "end_time": "2022-08-27T12:16:00.968633",
     "exception": false,
     "start_time": "2022-08-27T12:16:00.933957",
     "status": "completed"
    },
    "tags": []
   },
   "outputs": [
    {
     "data": {
      "text/plain": [
       "array(['Kolkata Knight Riders', 'Chennai Super Kings', 'Rajasthan Royals',\n",
       "       'Mumbai Indians', 'Deccan Chargers', 'Kings XI Punjab',\n",
       "       'Royal Challengers Bangalore', 'Delhi Daredevils',\n",
       "       'Kochi Tuskers Kerala', 'Pune Warriors', 'Sunrisers Hyderabad',\n",
       "       'Rising Pune Supergiants', 'Gujarat Lions',\n",
       "       'Rising Pune Supergiant'], dtype=object)"
      ]
     },
     "execution_count": 10,
     "metadata": {},
     "output_type": "execute_result"
    }
   ],
   "source": [
    "data['bat_team'].unique()"
   ]
  },
  {
   "cell_type": "code",
   "execution_count": 11,
   "id": "69310582",
   "metadata": {
    "execution": {
     "iopub.execute_input": "2022-08-27T12:16:01.000099Z",
     "iopub.status.busy": "2022-08-27T12:16:00.999678Z",
     "iopub.status.idle": "2022-08-27T12:16:01.012028Z",
     "shell.execute_reply": "2022-08-27T12:16:01.011320Z"
    },
    "papermill": {
     "duration": 0.030549,
     "end_time": "2022-08-27T12:16:01.014081",
     "exception": false,
     "start_time": "2022-08-27T12:16:00.983532",
     "status": "completed"
    },
    "tags": []
   },
   "outputs": [
    {
     "data": {
      "text/plain": [
       "array(['Royal Challengers Bangalore', 'Kings XI Punjab',\n",
       "       'Delhi Daredevils', 'Kolkata Knight Riders', 'Rajasthan Royals',\n",
       "       'Mumbai Indians', 'Chennai Super Kings', 'Deccan Chargers',\n",
       "       'Pune Warriors', 'Kochi Tuskers Kerala', 'Sunrisers Hyderabad',\n",
       "       'Rising Pune Supergiants', 'Gujarat Lions',\n",
       "       'Rising Pune Supergiant'], dtype=object)"
      ]
     },
     "execution_count": 11,
     "metadata": {},
     "output_type": "execute_result"
    }
   ],
   "source": [
    "data['bowl_team'].unique()"
   ]
  },
  {
   "cell_type": "code",
   "execution_count": 12,
   "id": "76589e09",
   "metadata": {
    "execution": {
     "iopub.execute_input": "2022-08-27T12:16:01.046162Z",
     "iopub.status.busy": "2022-08-27T12:16:01.045533Z",
     "iopub.status.idle": "2022-08-27T12:16:01.145229Z",
     "shell.execute_reply": "2022-08-27T12:16:01.144368Z"
    },
    "papermill": {
     "duration": 0.118338,
     "end_time": "2022-08-27T12:16:01.147522",
     "exception": false,
     "start_time": "2022-08-27T12:16:01.029184",
     "status": "completed"
    },
    "tags": []
   },
   "outputs": [],
   "source": [
    "# Replacing the data of Deccan Chargers to Sunrisers Hyderabad\n",
    "data['bat_team'] = data['bat_team'].str.replace('Deccan Chargers', 'Sunrisers Hyderabad')\n",
    "data['bowl_team'] = data['bowl_team'].str.replace('Deccan Chargers', 'Sunrisers Hyderabad')"
   ]
  },
  {
   "cell_type": "code",
   "execution_count": 13,
   "id": "2990a845",
   "metadata": {
    "execution": {
     "iopub.execute_input": "2022-08-27T12:16:01.179174Z",
     "iopub.status.busy": "2022-08-27T12:16:01.178517Z",
     "iopub.status.idle": "2022-08-27T12:16:01.190359Z",
     "shell.execute_reply": "2022-08-27T12:16:01.189590Z"
    },
    "papermill": {
     "duration": 0.029797,
     "end_time": "2022-08-27T12:16:01.192292",
     "exception": false,
     "start_time": "2022-08-27T12:16:01.162495",
     "status": "completed"
    },
    "tags": []
   },
   "outputs": [
    {
     "data": {
      "text/plain": [
       "array(['Kolkata Knight Riders', 'Chennai Super Kings', 'Rajasthan Royals',\n",
       "       'Mumbai Indians', 'Sunrisers Hyderabad', 'Kings XI Punjab',\n",
       "       'Royal Challengers Bangalore', 'Delhi Daredevils',\n",
       "       'Kochi Tuskers Kerala', 'Pune Warriors', 'Rising Pune Supergiants',\n",
       "       'Gujarat Lions', 'Rising Pune Supergiant'], dtype=object)"
      ]
     },
     "execution_count": 13,
     "metadata": {},
     "output_type": "execute_result"
    }
   ],
   "source": [
    "data['bat_team'].unique()"
   ]
  },
  {
   "cell_type": "code",
   "execution_count": 14,
   "id": "a5759b62",
   "metadata": {
    "execution": {
     "iopub.execute_input": "2022-08-27T12:16:01.224249Z",
     "iopub.status.busy": "2022-08-27T12:16:01.223605Z",
     "iopub.status.idle": "2022-08-27T12:16:01.227546Z",
     "shell.execute_reply": "2022-08-27T12:16:01.226897Z"
    },
    "papermill": {
     "duration": 0.022123,
     "end_time": "2022-08-27T12:16:01.229472",
     "exception": false,
     "start_time": "2022-08-27T12:16:01.207349",
     "status": "completed"
    },
    "tags": []
   },
   "outputs": [],
   "source": [
    "consistent_teams = ['Kolkata Knight Riders', 'Chennai Super Kings', 'Rajasthan Royals',\n",
    "       'Mumbai Indians','Kings XI Punjab','Royal Challengers Bangalore', 'Delhi Daredevils','Sunrisers Hyderabad']"
   ]
  },
  {
   "cell_type": "code",
   "execution_count": 15,
   "id": "43832a9c",
   "metadata": {
    "execution": {
     "iopub.execute_input": "2022-08-27T12:16:01.262335Z",
     "iopub.status.busy": "2022-08-27T12:16:01.261668Z",
     "iopub.status.idle": "2022-08-27T12:16:01.283412Z",
     "shell.execute_reply": "2022-08-27T12:16:01.282394Z"
    },
    "papermill": {
     "duration": 0.041036,
     "end_time": "2022-08-27T12:16:01.286098",
     "exception": false,
     "start_time": "2022-08-27T12:16:01.245062",
     "status": "completed"
    },
    "tags": []
   },
   "outputs": [
    {
     "name": "stdout",
     "output_type": "stream",
     "text": [
      "Before removing inconsistent teams: (76014, 9)\n",
      "After removing inconsistent teams: (62464, 9)\n"
     ]
    }
   ],
   "source": [
    "# Keeping only consistent teams\n",
    "print('Before removing inconsistent teams: {}'.format(data.shape))\n",
    "data = data[(data['bat_team'].isin(consistent_teams)) & (data['bowl_team'].isin(consistent_teams))]\n",
    "print('After removing inconsistent teams: {}'.format(data.shape))"
   ]
  },
  {
   "cell_type": "code",
   "execution_count": 16,
   "id": "5a26fb98",
   "metadata": {
    "execution": {
     "iopub.execute_input": "2022-08-27T12:16:01.318945Z",
     "iopub.status.busy": "2022-08-27T12:16:01.318538Z",
     "iopub.status.idle": "2022-08-27T12:16:01.329277Z",
     "shell.execute_reply": "2022-08-27T12:16:01.328424Z"
    },
    "papermill": {
     "duration": 0.029098,
     "end_time": "2022-08-27T12:16:01.331434",
     "exception": false,
     "start_time": "2022-08-27T12:16:01.302336",
     "status": "completed"
    },
    "tags": []
   },
   "outputs": [],
   "source": [
    "# Removing first 5 overs data in every match\n",
    "data = data[data['overs']>=5.0]"
   ]
  },
  {
   "cell_type": "code",
   "execution_count": 17,
   "id": "35833062",
   "metadata": {
    "execution": {
     "iopub.execute_input": "2022-08-27T12:16:01.363638Z",
     "iopub.status.busy": "2022-08-27T12:16:01.362652Z",
     "iopub.status.idle": "2022-08-27T12:16:01.369882Z",
     "shell.execute_reply": "2022-08-27T12:16:01.369176Z"
    },
    "papermill": {
     "duration": 0.025073,
     "end_time": "2022-08-27T12:16:01.371622",
     "exception": false,
     "start_time": "2022-08-27T12:16:01.346549",
     "status": "completed"
    },
    "tags": []
   },
   "outputs": [
    {
     "data": {
      "text/plain": [
       "<bound method Series.unique of 32       M Chinnaswamy Stadium\n",
       "33       M Chinnaswamy Stadium\n",
       "34       M Chinnaswamy Stadium\n",
       "35       M Chinnaswamy Stadium\n",
       "36       M Chinnaswamy Stadium\n",
       "                 ...          \n",
       "75884    M Chinnaswamy Stadium\n",
       "75885    M Chinnaswamy Stadium\n",
       "75886    M Chinnaswamy Stadium\n",
       "75887    M Chinnaswamy Stadium\n",
       "75888    M Chinnaswamy Stadium\n",
       "Name: venue, Length: 46560, dtype: object>"
      ]
     },
     "execution_count": 17,
     "metadata": {},
     "output_type": "execute_result"
    }
   ],
   "source": [
    "data['venue'].unique"
   ]
  },
  {
   "cell_type": "code",
   "execution_count": 18,
   "id": "193543c5",
   "metadata": {
    "execution": {
     "iopub.execute_input": "2022-08-27T12:16:01.404478Z",
     "iopub.status.busy": "2022-08-27T12:16:01.403808Z",
     "iopub.status.idle": "2022-08-27T12:16:01.408475Z",
     "shell.execute_reply": "2022-08-27T12:16:01.407745Z"
    },
    "papermill": {
     "duration": 0.023514,
     "end_time": "2022-08-27T12:16:01.410277",
     "exception": false,
     "start_time": "2022-08-27T12:16:01.386763",
     "status": "completed"
    },
    "tags": []
   },
   "outputs": [],
   "source": [
    "Grounds = [ 'Wankhede Stadium', 'Sharjah Cricket Stadium', 'Sheikh Zayed Stadium', 'Sardar Patel Stadium, Motera', 'Rajiv Gandhi International Stadium, Uppal',\n",
    "          'Punjab Cricket Association Stadium, Mohali', 'Punjab Cricket Association IS Bindra Stadium, Mohali', 'M Chinnaswamy Stadium'\n",
    "          ,'MA Chidambaram Stadium, Chepauk', 'Eden Gardens', 'Dubai International Cricket Stadium','Saurashtra Cricket Association Stadium','Vidarbha Cricket Association Stadium, Jamtha' ]"
   ]
  },
  {
   "cell_type": "code",
   "execution_count": 19,
   "id": "d7d5172b",
   "metadata": {
    "execution": {
     "iopub.execute_input": "2022-08-27T12:16:01.442994Z",
     "iopub.status.busy": "2022-08-27T12:16:01.442319Z",
     "iopub.status.idle": "2022-08-27T12:16:01.453493Z",
     "shell.execute_reply": "2022-08-27T12:16:01.452124Z"
    },
    "papermill": {
     "duration": 0.030943,
     "end_time": "2022-08-27T12:16:01.456702",
     "exception": false,
     "start_time": "2022-08-27T12:16:01.425759",
     "status": "completed"
    },
    "tags": []
   },
   "outputs": [
    {
     "name": "stdout",
     "output_type": "stream",
     "text": [
      "Before removing inconsistent venues: (46560, 9)\n",
      "After removing inconsistent venues: (28624, 9)\n"
     ]
    }
   ],
   "source": [
    "# Keeping only consistent venues\n",
    "print('Before removing inconsistent venues: {}'.format(data.shape))\n",
    "data = data[(data['venue'].isin(Grounds))]\n",
    "print('After removing inconsistent venues: {}'.format(data.shape))"
   ]
  },
  {
   "cell_type": "code",
   "execution_count": 20,
   "id": "359bd9da",
   "metadata": {
    "execution": {
     "iopub.execute_input": "2022-08-27T12:16:01.490017Z",
     "iopub.status.busy": "2022-08-27T12:16:01.489352Z",
     "iopub.status.idle": "2022-08-27T12:16:03.062862Z",
     "shell.execute_reply": "2022-08-27T12:16:03.061748Z"
    },
    "papermill": {
     "duration": 1.592113,
     "end_time": "2022-08-27T12:16:03.064918",
     "exception": false,
     "start_time": "2022-08-27T12:16:01.472805",
     "status": "completed"
    },
    "tags": []
   },
   "outputs": [
    {
     "data": {
      "image/png": "[encoded data removed]",
      "text/plain": [
       "<Figure size 1080x720 with 2 Axes>"
      ]
     },
     "metadata": {
      "needs_background": "light"
     },
     "output_type": "display_data"
    }
   ],
   "source": [
    "# visualizing correlation between columns\n",
    "import matplotlib.pyplot as plt\n",
    "import seaborn as sns\n",
    "\n",
    "# Get correlation of all the features of the dataset\n",
    "corr_matrix = data.corr()\n",
    "top_corr_features = corr_matrix.index\n",
    "\n",
    "# Plotting the heatmap\n",
    "plt.figure(figsize=(15,10))\n",
    "g = sns.heatmap(data=data[top_corr_features].corr(), annot=True, cmap='RdYlGn')"
   ]
  },
  {
   "cell_type": "markdown",
   "id": "d55f15fa",
   "metadata": {
    "papermill": {
     "duration": 0.015487,
     "end_time": "2022-08-27T12:16:03.096394",
     "exception": false,
     "start_time": "2022-08-27T12:16:03.080907",
     "status": "completed"
    },
    "tags": []
   },
   "source": [
    "# Data Preprocessing"
   ]
  },
  {
   "cell_type": "code",
   "execution_count": 21,
   "id": "ecd8336e",
   "metadata": {
    "execution": {
     "iopub.execute_input": "2022-08-27T12:16:03.129638Z",
     "iopub.status.busy": "2022-08-27T12:16:03.129191Z",
     "iopub.status.idle": "2022-08-27T12:16:03.156950Z",
     "shell.execute_reply": "2022-08-27T12:16:03.155843Z"
    },
    "papermill": {
     "duration": 0.04779,
     "end_time": "2022-08-27T12:16:03.159929",
     "exception": false,
     "start_time": "2022-08-27T12:16:03.112139",
     "status": "completed"
    },
    "tags": []
   },
   "outputs": [
    {
     "data": {
      "text/plain": [
       "Index(['runs', 'wickets', 'overs', 'runs_last_5', 'wickets_last_5', 'total',\n",
       "       'bat_team_Chennai Super Kings', 'bat_team_Delhi Daredevils',\n",
       "       'bat_team_Kings XI Punjab', 'bat_team_Kolkata Knight Riders',\n",
       "       'bat_team_Mumbai Indians', 'bat_team_Rajasthan Royals',\n",
       "       'bat_team_Royal Challengers Bangalore', 'bat_team_Sunrisers Hyderabad',\n",
       "       'bowl_team_Chennai Super Kings', 'bowl_team_Delhi Daredevils',\n",
       "       'bowl_team_Kings XI Punjab', 'bowl_team_Kolkata Knight Riders',\n",
       "       'bowl_team_Mumbai Indians', 'bowl_team_Rajasthan Royals',\n",
       "       'bowl_team_Royal Challengers Bangalore',\n",
       "       'bowl_team_Sunrisers Hyderabad',\n",
       "       'venue_Dubai International Cricket Stadium', 'venue_Eden Gardens',\n",
       "       'venue_M Chinnaswamy Stadium', 'venue_MA Chidambaram Stadium, Chepauk',\n",
       "       'venue_Punjab Cricket Association IS Bindra Stadium, Mohali',\n",
       "       'venue_Punjab Cricket Association Stadium, Mohali',\n",
       "       'venue_Rajiv Gandhi International Stadium, Uppal',\n",
       "       'venue_Sardar Patel Stadium, Motera', 'venue_Sharjah Cricket Stadium',\n",
       "       'venue_Sheikh Zayed Stadium',\n",
       "       'venue_Vidarbha Cricket Association Stadium, Jamtha',\n",
       "       'venue_Wankhede Stadium'],\n",
       "      dtype='object')"
      ]
     },
     "execution_count": 21,
     "metadata": {},
     "output_type": "execute_result"
    }
   ],
   "source": [
    "encode = pd.get_dummies(data=data, columns=['bat_team','bowl_team','venue'])\n",
    "encode.columns"
   ]
  },
  {
   "cell_type": "code",
   "execution_count": 22,
   "id": "fc8e6056",
   "metadata": {
    "execution": {
     "iopub.execute_input": "2022-08-27T12:16:03.193756Z",
     "iopub.status.busy": "2022-08-27T12:16:03.193033Z",
     "iopub.status.idle": "2022-08-27T12:16:03.207583Z",
     "shell.execute_reply": "2022-08-27T12:16:03.206587Z"
    },
    "papermill": {
     "duration": 0.033927,
     "end_time": "2022-08-27T12:16:03.209663",
     "exception": false,
     "start_time": "2022-08-27T12:16:03.175736",
     "status": "completed"
    },
    "tags": []
   },
   "outputs": [
    {
     "data": {
      "text/html": [
       "<div>\n",
       "<style scoped>\n",
       "    .dataframe tbody tr th:only-of-type {\n",
       "        vertical-align: middle;\n",
       "    }\n",
       "\n",
       "    .dataframe tbody tr th {\n",
       "        vertical-align: top;\n",
       "    }\n",
       "\n",
       "    .dataframe thead th {\n",
       "        text-align: right;\n",
       "    }\n",
       "</style>\n",
       "<table border=\"1\" class=\"dataframe\">\n",
       "  <thead>\n",
       "    <tr style=\"text-align: right;\">\n",
       "      <th></th>\n",
       "      <th>venue</th>\n",
       "      <th>bat_team</th>\n",
       "      <th>bowl_team</th>\n",
       "      <th>runs</th>\n",
       "      <th>wickets</th>\n",
       "      <th>overs</th>\n",
       "      <th>runs_last_5</th>\n",
       "      <th>wickets_last_5</th>\n",
       "      <th>total</th>\n",
       "    </tr>\n",
       "  </thead>\n",
       "  <tbody>\n",
       "    <tr>\n",
       "      <th>32</th>\n",
       "      <td>M Chinnaswamy Stadium</td>\n",
       "      <td>Kolkata Knight Riders</td>\n",
       "      <td>Royal Challengers Bangalore</td>\n",
       "      <td>61</td>\n",
       "      <td>0</td>\n",
       "      <td>5.1</td>\n",
       "      <td>59</td>\n",
       "      <td>0</td>\n",
       "      <td>222</td>\n",
       "    </tr>\n",
       "    <tr>\n",
       "      <th>33</th>\n",
       "      <td>M Chinnaswamy Stadium</td>\n",
       "      <td>Kolkata Knight Riders</td>\n",
       "      <td>Royal Challengers Bangalore</td>\n",
       "      <td>61</td>\n",
       "      <td>1</td>\n",
       "      <td>5.2</td>\n",
       "      <td>59</td>\n",
       "      <td>1</td>\n",
       "      <td>222</td>\n",
       "    </tr>\n",
       "    <tr>\n",
       "      <th>34</th>\n",
       "      <td>M Chinnaswamy Stadium</td>\n",
       "      <td>Kolkata Knight Riders</td>\n",
       "      <td>Royal Challengers Bangalore</td>\n",
       "      <td>61</td>\n",
       "      <td>1</td>\n",
       "      <td>5.3</td>\n",
       "      <td>59</td>\n",
       "      <td>1</td>\n",
       "      <td>222</td>\n",
       "    </tr>\n",
       "    <tr>\n",
       "      <th>35</th>\n",
       "      <td>M Chinnaswamy Stadium</td>\n",
       "      <td>Kolkata Knight Riders</td>\n",
       "      <td>Royal Challengers Bangalore</td>\n",
       "      <td>61</td>\n",
       "      <td>1</td>\n",
       "      <td>5.4</td>\n",
       "      <td>59</td>\n",
       "      <td>1</td>\n",
       "      <td>222</td>\n",
       "    </tr>\n",
       "    <tr>\n",
       "      <th>36</th>\n",
       "      <td>M Chinnaswamy Stadium</td>\n",
       "      <td>Kolkata Knight Riders</td>\n",
       "      <td>Royal Challengers Bangalore</td>\n",
       "      <td>61</td>\n",
       "      <td>1</td>\n",
       "      <td>5.5</td>\n",
       "      <td>58</td>\n",
       "      <td>1</td>\n",
       "      <td>222</td>\n",
       "    </tr>\n",
       "  </tbody>\n",
       "</table>\n",
       "</div>"
      ],
      "text/plain": [
       "                    venue               bat_team                    bowl_team  \\\n",
       "32  M Chinnaswamy Stadium  Kolkata Knight Riders  Royal Challengers Bangalore   \n",
       "33  M Chinnaswamy Stadium  Kolkata Knight Riders  Royal Challengers Bangalore   \n",
       "34  M Chinnaswamy Stadium  Kolkata Knight Riders  Royal Challengers Bangalore   \n",
       "35  M Chinnaswamy Stadium  Kolkata Knight Riders  Royal Challengers Bangalore   \n",
       "36  M Chinnaswamy Stadium  Kolkata Knight Riders  Royal Challengers Bangalore   \n",
       "\n",
       "    runs  wickets  overs  runs_last_5  wickets_last_5  total  \n",
       "32    61        0    5.1           59               0    222  \n",
       "33    61        1    5.2           59               1    222  \n",
       "34    61        1    5.3           59               1    222  \n",
       "35    61        1    5.4           59               1    222  \n",
       "36    61        1    5.5           58               1    222  "
      ]
     },
     "execution_count": 22,
     "metadata": {},
     "output_type": "execute_result"
    }
   ],
   "source": [
    "data.head()"
   ]
  },
  {
   "cell_type": "code",
   "execution_count": 23,
   "id": "95aa8d51",
   "metadata": {
    "execution": {
     "iopub.execute_input": "2022-08-27T12:16:03.244429Z",
     "iopub.status.busy": "2022-08-27T12:16:03.244000Z",
     "iopub.status.idle": "2022-08-27T12:16:03.263783Z",
     "shell.execute_reply": "2022-08-27T12:16:03.262624Z"
    },
    "papermill": {
     "duration": 0.039694,
     "end_time": "2022-08-27T12:16:03.266023",
     "exception": false,
     "start_time": "2022-08-27T12:16:03.226329",
     "status": "completed"
    },
    "tags": []
   },
   "outputs": [
    {
     "data": {
      "text/html": [
       "<div>\n",
       "<style scoped>\n",
       "    .dataframe tbody tr th:only-of-type {\n",
       "        vertical-align: middle;\n",
       "    }\n",
       "\n",
       "    .dataframe tbody tr th {\n",
       "        vertical-align: top;\n",
       "    }\n",
       "\n",
       "    .dataframe thead th {\n",
       "        text-align: right;\n",
       "    }\n",
       "</style>\n",
       "<table border=\"1\" class=\"dataframe\">\n",
       "  <thead>\n",
       "    <tr style=\"text-align: right;\">\n",
       "      <th></th>\n",
       "      <th>runs</th>\n",
       "      <th>wickets</th>\n",
       "      <th>overs</th>\n",
       "      <th>runs_last_5</th>\n",
       "      <th>wickets_last_5</th>\n",
       "      <th>total</th>\n",
       "      <th>bat_team_Chennai Super Kings</th>\n",
       "      <th>bat_team_Delhi Daredevils</th>\n",
       "      <th>bat_team_Kings XI Punjab</th>\n",
       "      <th>bat_team_Kolkata Knight Riders</th>\n",
       "      <th>...</th>\n",
       "      <th>venue_M Chinnaswamy Stadium</th>\n",
       "      <th>venue_MA Chidambaram Stadium, Chepauk</th>\n",
       "      <th>venue_Punjab Cricket Association IS Bindra Stadium, Mohali</th>\n",
       "      <th>venue_Punjab Cricket Association Stadium, Mohali</th>\n",
       "      <th>venue_Rajiv Gandhi International Stadium, Uppal</th>\n",
       "      <th>venue_Sardar Patel Stadium, Motera</th>\n",
       "      <th>venue_Sharjah Cricket Stadium</th>\n",
       "      <th>venue_Sheikh Zayed Stadium</th>\n",
       "      <th>venue_Vidarbha Cricket Association Stadium, Jamtha</th>\n",
       "      <th>venue_Wankhede Stadium</th>\n",
       "    </tr>\n",
       "  </thead>\n",
       "  <tbody>\n",
       "    <tr>\n",
       "      <th>75884</th>\n",
       "      <td>106</td>\n",
       "      <td>9</td>\n",
       "      <td>18.1</td>\n",
       "      <td>29</td>\n",
       "      <td>4</td>\n",
       "      <td>107</td>\n",
       "      <td>0</td>\n",
       "      <td>0</td>\n",
       "      <td>0</td>\n",
       "      <td>1</td>\n",
       "      <td>...</td>\n",
       "      <td>1</td>\n",
       "      <td>0</td>\n",
       "      <td>0</td>\n",
       "      <td>0</td>\n",
       "      <td>0</td>\n",
       "      <td>0</td>\n",
       "      <td>0</td>\n",
       "      <td>0</td>\n",
       "      <td>0</td>\n",
       "      <td>0</td>\n",
       "    </tr>\n",
       "    <tr>\n",
       "      <th>75885</th>\n",
       "      <td>107</td>\n",
       "      <td>9</td>\n",
       "      <td>18.2</td>\n",
       "      <td>29</td>\n",
       "      <td>4</td>\n",
       "      <td>107</td>\n",
       "      <td>0</td>\n",
       "      <td>0</td>\n",
       "      <td>0</td>\n",
       "      <td>1</td>\n",
       "      <td>...</td>\n",
       "      <td>1</td>\n",
       "      <td>0</td>\n",
       "      <td>0</td>\n",
       "      <td>0</td>\n",
       "      <td>0</td>\n",
       "      <td>0</td>\n",
       "      <td>0</td>\n",
       "      <td>0</td>\n",
       "      <td>0</td>\n",
       "      <td>0</td>\n",
       "    </tr>\n",
       "    <tr>\n",
       "      <th>75886</th>\n",
       "      <td>107</td>\n",
       "      <td>9</td>\n",
       "      <td>18.3</td>\n",
       "      <td>28</td>\n",
       "      <td>4</td>\n",
       "      <td>107</td>\n",
       "      <td>0</td>\n",
       "      <td>0</td>\n",
       "      <td>0</td>\n",
       "      <td>1</td>\n",
       "      <td>...</td>\n",
       "      <td>1</td>\n",
       "      <td>0</td>\n",
       "      <td>0</td>\n",
       "      <td>0</td>\n",
       "      <td>0</td>\n",
       "      <td>0</td>\n",
       "      <td>0</td>\n",
       "      <td>0</td>\n",
       "      <td>0</td>\n",
       "      <td>0</td>\n",
       "    </tr>\n",
       "    <tr>\n",
       "      <th>75887</th>\n",
       "      <td>107</td>\n",
       "      <td>9</td>\n",
       "      <td>18.4</td>\n",
       "      <td>24</td>\n",
       "      <td>4</td>\n",
       "      <td>107</td>\n",
       "      <td>0</td>\n",
       "      <td>0</td>\n",
       "      <td>0</td>\n",
       "      <td>1</td>\n",
       "      <td>...</td>\n",
       "      <td>1</td>\n",
       "      <td>0</td>\n",
       "      <td>0</td>\n",
       "      <td>0</td>\n",
       "      <td>0</td>\n",
       "      <td>0</td>\n",
       "      <td>0</td>\n",
       "      <td>0</td>\n",
       "      <td>0</td>\n",
       "      <td>0</td>\n",
       "    </tr>\n",
       "    <tr>\n",
       "      <th>75888</th>\n",
       "      <td>107</td>\n",
       "      <td>10</td>\n",
       "      <td>18.5</td>\n",
       "      <td>23</td>\n",
       "      <td>5</td>\n",
       "      <td>107</td>\n",
       "      <td>0</td>\n",
       "      <td>0</td>\n",
       "      <td>0</td>\n",
       "      <td>1</td>\n",
       "      <td>...</td>\n",
       "      <td>1</td>\n",
       "      <td>0</td>\n",
       "      <td>0</td>\n",
       "      <td>0</td>\n",
       "      <td>0</td>\n",
       "      <td>0</td>\n",
       "      <td>0</td>\n",
       "      <td>0</td>\n",
       "      <td>0</td>\n",
       "      <td>0</td>\n",
       "    </tr>\n",
       "  </tbody>\n",
       "</table>\n",
       "<p>5 rows × 34 columns</p>\n",
       "</div>"
      ],
      "text/plain": [
       "       runs  wickets  overs  runs_last_5  wickets_last_5  total  \\\n",
       "75884   106        9   18.1           29               4    107   \n",
       "75885   107        9   18.2           29               4    107   \n",
       "75886   107        9   18.3           28               4    107   \n",
       "75887   107        9   18.4           24               4    107   \n",
       "75888   107       10   18.5           23               5    107   \n",
       "\n",
       "       bat_team_Chennai Super Kings  bat_team_Delhi Daredevils  \\\n",
       "75884                             0                          0   \n",
       "75885                             0                          0   \n",
       "75886                             0                          0   \n",
       "75887                             0                          0   \n",
       "75888                             0                          0   \n",
       "\n",
       "       bat_team_Kings XI Punjab  bat_team_Kolkata Knight Riders  ...  \\\n",
       "75884                         0                               1  ...   \n",
       "75885                         0                               1  ...   \n",
       "75886                         0                               1  ...   \n",
       "75887                         0                               1  ...   \n",
       "75888                         0                               1  ...   \n",
       "\n",
       "       venue_M Chinnaswamy Stadium  venue_MA Chidambaram Stadium, Chepauk  \\\n",
       "75884                            1                                      0   \n",
       "75885                            1                                      0   \n",
       "75886                            1                                      0   \n",
       "75887                            1                                      0   \n",
       "75888                            1                                      0   \n",
       "\n",
       "       venue_Punjab Cricket Association IS Bindra Stadium, Mohali  \\\n",
       "75884                                                  0            \n",
       "75885                                                  0            \n",
       "75886                                                  0            \n",
       "75887                                                  0            \n",
       "75888                                                  0            \n",
       "\n",
       "       venue_Punjab Cricket Association Stadium, Mohali  \\\n",
       "75884                                                 0   \n",
       "75885                                                 0   \n",
       "75886                                                 0   \n",
       "75887                                                 0   \n",
       "75888                                                 0   \n",
       "\n",
       "       venue_Rajiv Gandhi International Stadium, Uppal  \\\n",
       "75884                                                0   \n",
       "75885                                                0   \n",
       "75886                                                0   \n",
       "75887                                                0   \n",
       "75888                                                0   \n",
       "\n",
       "       venue_Sardar Patel Stadium, Motera  venue_Sharjah Cricket Stadium  \\\n",
       "75884                                   0                              0   \n",
       "75885                                   0                              0   \n",
       "75886                                   0                              0   \n",
       "75887                                   0                              0   \n",
       "75888                                   0                              0   \n",
       "\n",
       "       venue_Sheikh Zayed Stadium  \\\n",
       "75884                           0   \n",
       "75885                           0   \n",
       "75886                           0   \n",
       "75887                           0   \n",
       "75888                           0   \n",
       "\n",
       "       venue_Vidarbha Cricket Association Stadium, Jamtha  \\\n",
       "75884                                                  0    \n",
       "75885                                                  0    \n",
       "75886                                                  0    \n",
       "75887                                                  0    \n",
       "75888                                                  0    \n",
       "\n",
       "       venue_Wankhede Stadium  \n",
       "75884                       0  \n",
       "75885                       0  \n",
       "75886                       0  \n",
       "75887                       0  \n",
       "75888                       0  \n",
       "\n",
       "[5 rows x 34 columns]"
      ]
     },
     "execution_count": 23,
     "metadata": {},
     "output_type": "execute_result"
    }
   ],
   "source": [
    "encode.tail()"
   ]
  },
  {
   "cell_type": "code",
   "execution_count": 24,
   "id": "796af0db",
   "metadata": {
    "execution": {
     "iopub.execute_input": "2022-08-27T12:16:03.300963Z",
     "iopub.status.busy": "2022-08-27T12:16:03.300571Z",
     "iopub.status.idle": "2022-08-27T12:16:03.311435Z",
     "shell.execute_reply": "2022-08-27T12:16:03.310685Z"
    },
    "papermill": {
     "duration": 0.030827,
     "end_time": "2022-08-27T12:16:03.313444",
     "exception": false,
     "start_time": "2022-08-27T12:16:03.282617",
     "status": "completed"
    },
    "tags": []
   },
   "outputs": [],
   "source": [
    "encode = encode[[ 'bat_team_Chennai Super Kings', 'bat_team_Delhi Daredevils', 'bat_team_Kings XI Punjab',\n",
    "              'bat_team_Kolkata Knight Riders', 'bat_team_Mumbai Indians', 'bat_team_Rajasthan Royals',\n",
    "              'bat_team_Royal Challengers Bangalore', 'bat_team_Sunrisers Hyderabad',\n",
    "              'bowl_team_Chennai Super Kings', 'bowl_team_Delhi Daredevils', 'bowl_team_Kings XI Punjab',\n",
    "              'bowl_team_Kolkata Knight Riders', 'bowl_team_Mumbai Indians', 'bowl_team_Rajasthan Royals',\n",
    "              'bowl_team_Royal Challengers Bangalore', 'bowl_team_Sunrisers Hyderabad', 'venue_Dubai International Cricket Stadium', 'venue_Eden Gardens','venue_M Chinnaswamy Stadium', 'venue_MA Chidambaram Stadium, Chepauk',\n",
    "              'venue_Punjab Cricket Association IS Bindra Stadium, Mohali','venue_Punjab Cricket Association Stadium, Mohali','venue_Rajiv Gandhi International Stadium, Uppal','venue_Sardar Patel Stadium, Motera', 'venue_Sharjah Cricket Stadium', \n",
    "              'venue_Wankhede Stadium',\n",
    "              'overs', 'runs', 'wickets', 'runs_last_5', 'wickets_last_5', 'total']]"
   ]
  },
  {
   "cell_type": "code",
   "execution_count": 25,
   "id": "c500ccf8",
   "metadata": {
    "execution": {
     "iopub.execute_input": "2022-08-27T12:16:03.348734Z",
     "iopub.status.busy": "2022-08-27T12:16:03.348133Z",
     "iopub.status.idle": "2022-08-27T12:16:03.367319Z",
     "shell.execute_reply": "2022-08-27T12:16:03.366321Z"
    },
    "papermill": {
     "duration": 0.039189,
     "end_time": "2022-08-27T12:16:03.369370",
     "exception": false,
     "start_time": "2022-08-27T12:16:03.330181",
     "status": "completed"
    },
    "tags": []
   },
   "outputs": [
    {
     "data": {
      "text/html": [
       "<div>\n",
       "<style scoped>\n",
       "    .dataframe tbody tr th:only-of-type {\n",
       "        vertical-align: middle;\n",
       "    }\n",
       "\n",
       "    .dataframe tbody tr th {\n",
       "        vertical-align: top;\n",
       "    }\n",
       "\n",
       "    .dataframe thead th {\n",
       "        text-align: right;\n",
       "    }\n",
       "</style>\n",
       "<table border=\"1\" class=\"dataframe\">\n",
       "  <thead>\n",
       "    <tr style=\"text-align: right;\">\n",
       "      <th></th>\n",
       "      <th>bat_team_Chennai Super Kings</th>\n",
       "      <th>bat_team_Delhi Daredevils</th>\n",
       "      <th>bat_team_Kings XI Punjab</th>\n",
       "      <th>bat_team_Kolkata Knight Riders</th>\n",
       "      <th>bat_team_Mumbai Indians</th>\n",
       "      <th>bat_team_Rajasthan Royals</th>\n",
       "      <th>bat_team_Royal Challengers Bangalore</th>\n",
       "      <th>bat_team_Sunrisers Hyderabad</th>\n",
       "      <th>bowl_team_Chennai Super Kings</th>\n",
       "      <th>bowl_team_Delhi Daredevils</th>\n",
       "      <th>...</th>\n",
       "      <th>venue_Rajiv Gandhi International Stadium, Uppal</th>\n",
       "      <th>venue_Sardar Patel Stadium, Motera</th>\n",
       "      <th>venue_Sharjah Cricket Stadium</th>\n",
       "      <th>venue_Wankhede Stadium</th>\n",
       "      <th>overs</th>\n",
       "      <th>runs</th>\n",
       "      <th>wickets</th>\n",
       "      <th>runs_last_5</th>\n",
       "      <th>wickets_last_5</th>\n",
       "      <th>total</th>\n",
       "    </tr>\n",
       "  </thead>\n",
       "  <tbody>\n",
       "    <tr>\n",
       "      <th>32</th>\n",
       "      <td>0</td>\n",
       "      <td>0</td>\n",
       "      <td>0</td>\n",
       "      <td>1</td>\n",
       "      <td>0</td>\n",
       "      <td>0</td>\n",
       "      <td>0</td>\n",
       "      <td>0</td>\n",
       "      <td>0</td>\n",
       "      <td>0</td>\n",
       "      <td>...</td>\n",
       "      <td>0</td>\n",
       "      <td>0</td>\n",
       "      <td>0</td>\n",
       "      <td>0</td>\n",
       "      <td>5.1</td>\n",
       "      <td>61</td>\n",
       "      <td>0</td>\n",
       "      <td>59</td>\n",
       "      <td>0</td>\n",
       "      <td>222</td>\n",
       "    </tr>\n",
       "    <tr>\n",
       "      <th>33</th>\n",
       "      <td>0</td>\n",
       "      <td>0</td>\n",
       "      <td>0</td>\n",
       "      <td>1</td>\n",
       "      <td>0</td>\n",
       "      <td>0</td>\n",
       "      <td>0</td>\n",
       "      <td>0</td>\n",
       "      <td>0</td>\n",
       "      <td>0</td>\n",
       "      <td>...</td>\n",
       "      <td>0</td>\n",
       "      <td>0</td>\n",
       "      <td>0</td>\n",
       "      <td>0</td>\n",
       "      <td>5.2</td>\n",
       "      <td>61</td>\n",
       "      <td>1</td>\n",
       "      <td>59</td>\n",
       "      <td>1</td>\n",
       "      <td>222</td>\n",
       "    </tr>\n",
       "    <tr>\n",
       "      <th>34</th>\n",
       "      <td>0</td>\n",
       "      <td>0</td>\n",
       "      <td>0</td>\n",
       "      <td>1</td>\n",
       "      <td>0</td>\n",
       "      <td>0</td>\n",
       "      <td>0</td>\n",
       "      <td>0</td>\n",
       "      <td>0</td>\n",
       "      <td>0</td>\n",
       "      <td>...</td>\n",
       "      <td>0</td>\n",
       "      <td>0</td>\n",
       "      <td>0</td>\n",
       "      <td>0</td>\n",
       "      <td>5.3</td>\n",
       "      <td>61</td>\n",
       "      <td>1</td>\n",
       "      <td>59</td>\n",
       "      <td>1</td>\n",
       "      <td>222</td>\n",
       "    </tr>\n",
       "    <tr>\n",
       "      <th>35</th>\n",
       "      <td>0</td>\n",
       "      <td>0</td>\n",
       "      <td>0</td>\n",
       "      <td>1</td>\n",
       "      <td>0</td>\n",
       "      <td>0</td>\n",
       "      <td>0</td>\n",
       "      <td>0</td>\n",
       "      <td>0</td>\n",
       "      <td>0</td>\n",
       "      <td>...</td>\n",
       "      <td>0</td>\n",
       "      <td>0</td>\n",
       "      <td>0</td>\n",
       "      <td>0</td>\n",
       "      <td>5.4</td>\n",
       "      <td>61</td>\n",
       "      <td>1</td>\n",
       "      <td>59</td>\n",
       "      <td>1</td>\n",
       "      <td>222</td>\n",
       "    </tr>\n",
       "    <tr>\n",
       "      <th>36</th>\n",
       "      <td>0</td>\n",
       "      <td>0</td>\n",
       "      <td>0</td>\n",
       "      <td>1</td>\n",
       "      <td>0</td>\n",
       "      <td>0</td>\n",
       "      <td>0</td>\n",
       "      <td>0</td>\n",
       "      <td>0</td>\n",
       "      <td>0</td>\n",
       "      <td>...</td>\n",
       "      <td>0</td>\n",
       "      <td>0</td>\n",
       "      <td>0</td>\n",
       "      <td>0</td>\n",
       "      <td>5.5</td>\n",
       "      <td>61</td>\n",
       "      <td>1</td>\n",
       "      <td>58</td>\n",
       "      <td>1</td>\n",
       "      <td>222</td>\n",
       "    </tr>\n",
       "  </tbody>\n",
       "</table>\n",
       "<p>5 rows × 32 columns</p>\n",
       "</div>"
      ],
      "text/plain": [
       "    bat_team_Chennai Super Kings  bat_team_Delhi Daredevils  \\\n",
       "32                             0                          0   \n",
       "33                             0                          0   \n",
       "34                             0                          0   \n",
       "35                             0                          0   \n",
       "36                             0                          0   \n",
       "\n",
       "    bat_team_Kings XI Punjab  bat_team_Kolkata Knight Riders  \\\n",
       "32                         0                               1   \n",
       "33                         0                               1   \n",
       "34                         0                               1   \n",
       "35                         0                               1   \n",
       "36                         0                               1   \n",
       "\n",
       "    bat_team_Mumbai Indians  bat_team_Rajasthan Royals  \\\n",
       "32                        0                          0   \n",
       "33                        0                          0   \n",
       "34                        0                          0   \n",
       "35                        0                          0   \n",
       "36                        0                          0   \n",
       "\n",
       "    bat_team_Royal Challengers Bangalore  bat_team_Sunrisers Hyderabad  \\\n",
       "32                                     0                             0   \n",
       "33                                     0                             0   \n",
       "34                                     0                             0   \n",
       "35                                     0                             0   \n",
       "36                                     0                             0   \n",
       "\n",
       "    bowl_team_Chennai Super Kings  bowl_team_Delhi Daredevils  ...  \\\n",
       "32                              0                           0  ...   \n",
       "33                              0                           0  ...   \n",
       "34                              0                           0  ...   \n",
       "35                              0                           0  ...   \n",
       "36                              0                           0  ...   \n",
       "\n",
       "    venue_Rajiv Gandhi International Stadium, Uppal  \\\n",
       "32                                                0   \n",
       "33                                                0   \n",
       "34                                                0   \n",
       "35                                                0   \n",
       "36                                                0   \n",
       "\n",
       "    venue_Sardar Patel Stadium, Motera  venue_Sharjah Cricket Stadium  \\\n",
       "32                                   0                              0   \n",
       "33                                   0                              0   \n",
       "34                                   0                              0   \n",
       "35                                   0                              0   \n",
       "36                                   0                              0   \n",
       "\n",
       "    venue_Wankhede Stadium  overs  runs  wickets  runs_last_5  wickets_last_5  \\\n",
       "32                       0    5.1    61        0           59               0   \n",
       "33                       0    5.2    61        1           59               1   \n",
       "34                       0    5.3    61        1           59               1   \n",
       "35                       0    5.4    61        1           59               1   \n",
       "36                       0    5.5    61        1           58               1   \n",
       "\n",
       "    total  \n",
       "32    222  \n",
       "33    222  \n",
       "34    222  \n",
       "35    222  \n",
       "36    222  \n",
       "\n",
       "[5 rows x 32 columns]"
      ]
     },
     "execution_count": 25,
     "metadata": {},
     "output_type": "execute_result"
    }
   ],
   "source": [
    "encode.head()"
   ]
  },
  {
   "cell_type": "code",
   "execution_count": 26,
   "id": "238ad2bc",
   "metadata": {
    "execution": {
     "iopub.execute_input": "2022-08-27T12:16:03.406446Z",
     "iopub.status.busy": "2022-08-27T12:16:03.406029Z",
     "iopub.status.idle": "2022-08-27T12:16:03.627107Z",
     "shell.execute_reply": "2022-08-27T12:16:03.626056Z"
    },
    "papermill": {
     "duration": 0.242908,
     "end_time": "2022-08-27T12:16:03.629632",
     "exception": false,
     "start_time": "2022-08-27T12:16:03.386724",
     "status": "completed"
    },
    "tags": []
   },
   "outputs": [
    {
     "name": "stdout",
     "output_type": "stream",
     "text": [
      "Training set: (22899, 31) and Test set: (5725, 31)\n"
     ]
    }
   ],
   "source": [
    "x = encode.iloc[:,:-1]\n",
    "y = encode.iloc[:,-1]\n",
    "from sklearn.model_selection import train_test_split\n",
    "X_train, X_test, y_train, y_test = train_test_split(x, y, test_size=0.2)\n",
    "print(\"Training set: {} and Test set: {}\".format(X_train.shape, X_test.shape))"
   ]
  },
  {
   "cell_type": "code",
   "execution_count": 27,
   "id": "426c05fe",
   "metadata": {
    "execution": {
     "iopub.execute_input": "2022-08-27T12:16:03.666067Z",
     "iopub.status.busy": "2022-08-27T12:16:03.665153Z",
     "iopub.status.idle": "2022-08-27T12:16:03.691397Z",
     "shell.execute_reply": "2022-08-27T12:16:03.690674Z"
    },
    "papermill": {
     "duration": 0.046109,
     "end_time": "2022-08-27T12:16:03.693295",
     "exception": false,
     "start_time": "2022-08-27T12:16:03.647186",
     "status": "completed"
    },
    "tags": []
   },
   "outputs": [
    {
     "data": {
      "text/html": [
       "<div>\n",
       "<style scoped>\n",
       "    .dataframe tbody tr th:only-of-type {\n",
       "        vertical-align: middle;\n",
       "    }\n",
       "\n",
       "    .dataframe tbody tr th {\n",
       "        vertical-align: top;\n",
       "    }\n",
       "\n",
       "    .dataframe thead th {\n",
       "        text-align: right;\n",
       "    }\n",
       "</style>\n",
       "<table border=\"1\" class=\"dataframe\">\n",
       "  <thead>\n",
       "    <tr style=\"text-align: right;\">\n",
       "      <th></th>\n",
       "      <th>bat_team_Chennai Super Kings</th>\n",
       "      <th>bat_team_Delhi Daredevils</th>\n",
       "      <th>bat_team_Kings XI Punjab</th>\n",
       "      <th>bat_team_Kolkata Knight Riders</th>\n",
       "      <th>bat_team_Mumbai Indians</th>\n",
       "      <th>bat_team_Rajasthan Royals</th>\n",
       "      <th>bat_team_Royal Challengers Bangalore</th>\n",
       "      <th>bat_team_Sunrisers Hyderabad</th>\n",
       "      <th>bowl_team_Chennai Super Kings</th>\n",
       "      <th>bowl_team_Delhi Daredevils</th>\n",
       "      <th>...</th>\n",
       "      <th>venue_Punjab Cricket Association Stadium, Mohali</th>\n",
       "      <th>venue_Rajiv Gandhi International Stadium, Uppal</th>\n",
       "      <th>venue_Sardar Patel Stadium, Motera</th>\n",
       "      <th>venue_Sharjah Cricket Stadium</th>\n",
       "      <th>venue_Wankhede Stadium</th>\n",
       "      <th>overs</th>\n",
       "      <th>runs</th>\n",
       "      <th>wickets</th>\n",
       "      <th>runs_last_5</th>\n",
       "      <th>wickets_last_5</th>\n",
       "    </tr>\n",
       "  </thead>\n",
       "  <tbody>\n",
       "    <tr>\n",
       "      <th>3018</th>\n",
       "      <td>0</td>\n",
       "      <td>0</td>\n",
       "      <td>0</td>\n",
       "      <td>0</td>\n",
       "      <td>0</td>\n",
       "      <td>0</td>\n",
       "      <td>1</td>\n",
       "      <td>0</td>\n",
       "      <td>0</td>\n",
       "      <td>0</td>\n",
       "      <td>...</td>\n",
       "      <td>0</td>\n",
       "      <td>0</td>\n",
       "      <td>0</td>\n",
       "      <td>0</td>\n",
       "      <td>0</td>\n",
       "      <td>7.5</td>\n",
       "      <td>36</td>\n",
       "      <td>3</td>\n",
       "      <td>25</td>\n",
       "      <td>1</td>\n",
       "    </tr>\n",
       "    <tr>\n",
       "      <th>5230</th>\n",
       "      <td>0</td>\n",
       "      <td>0</td>\n",
       "      <td>0</td>\n",
       "      <td>0</td>\n",
       "      <td>0</td>\n",
       "      <td>0</td>\n",
       "      <td>1</td>\n",
       "      <td>0</td>\n",
       "      <td>0</td>\n",
       "      <td>1</td>\n",
       "      <td>...</td>\n",
       "      <td>0</td>\n",
       "      <td>0</td>\n",
       "      <td>0</td>\n",
       "      <td>0</td>\n",
       "      <td>0</td>\n",
       "      <td>14.6</td>\n",
       "      <td>102</td>\n",
       "      <td>3</td>\n",
       "      <td>31</td>\n",
       "      <td>1</td>\n",
       "    </tr>\n",
       "    <tr>\n",
       "      <th>5185</th>\n",
       "      <td>0</td>\n",
       "      <td>0</td>\n",
       "      <td>0</td>\n",
       "      <td>0</td>\n",
       "      <td>0</td>\n",
       "      <td>0</td>\n",
       "      <td>1</td>\n",
       "      <td>0</td>\n",
       "      <td>0</td>\n",
       "      <td>1</td>\n",
       "      <td>...</td>\n",
       "      <td>0</td>\n",
       "      <td>0</td>\n",
       "      <td>0</td>\n",
       "      <td>0</td>\n",
       "      <td>0</td>\n",
       "      <td>7.4</td>\n",
       "      <td>53</td>\n",
       "      <td>2</td>\n",
       "      <td>31</td>\n",
       "      <td>2</td>\n",
       "    </tr>\n",
       "    <tr>\n",
       "      <th>63203</th>\n",
       "      <td>0</td>\n",
       "      <td>0</td>\n",
       "      <td>0</td>\n",
       "      <td>0</td>\n",
       "      <td>0</td>\n",
       "      <td>0</td>\n",
       "      <td>1</td>\n",
       "      <td>0</td>\n",
       "      <td>0</td>\n",
       "      <td>1</td>\n",
       "      <td>...</td>\n",
       "      <td>0</td>\n",
       "      <td>0</td>\n",
       "      <td>0</td>\n",
       "      <td>0</td>\n",
       "      <td>0</td>\n",
       "      <td>5.4</td>\n",
       "      <td>58</td>\n",
       "      <td>1</td>\n",
       "      <td>58</td>\n",
       "      <td>0</td>\n",
       "    </tr>\n",
       "    <tr>\n",
       "      <th>68956</th>\n",
       "      <td>0</td>\n",
       "      <td>0</td>\n",
       "      <td>0</td>\n",
       "      <td>0</td>\n",
       "      <td>0</td>\n",
       "      <td>0</td>\n",
       "      <td>0</td>\n",
       "      <td>1</td>\n",
       "      <td>0</td>\n",
       "      <td>0</td>\n",
       "      <td>...</td>\n",
       "      <td>0</td>\n",
       "      <td>1</td>\n",
       "      <td>0</td>\n",
       "      <td>0</td>\n",
       "      <td>0</td>\n",
       "      <td>15.2</td>\n",
       "      <td>151</td>\n",
       "      <td>3</td>\n",
       "      <td>58</td>\n",
       "      <td>1</td>\n",
       "    </tr>\n",
       "    <tr>\n",
       "      <th>...</th>\n",
       "      <td>...</td>\n",
       "      <td>...</td>\n",
       "      <td>...</td>\n",
       "      <td>...</td>\n",
       "      <td>...</td>\n",
       "      <td>...</td>\n",
       "      <td>...</td>\n",
       "      <td>...</td>\n",
       "      <td>...</td>\n",
       "      <td>...</td>\n",
       "      <td>...</td>\n",
       "      <td>...</td>\n",
       "      <td>...</td>\n",
       "      <td>...</td>\n",
       "      <td>...</td>\n",
       "      <td>...</td>\n",
       "      <td>...</td>\n",
       "      <td>...</td>\n",
       "      <td>...</td>\n",
       "      <td>...</td>\n",
       "      <td>...</td>\n",
       "    </tr>\n",
       "    <tr>\n",
       "      <th>41038</th>\n",
       "      <td>0</td>\n",
       "      <td>1</td>\n",
       "      <td>0</td>\n",
       "      <td>0</td>\n",
       "      <td>0</td>\n",
       "      <td>0</td>\n",
       "      <td>0</td>\n",
       "      <td>0</td>\n",
       "      <td>0</td>\n",
       "      <td>0</td>\n",
       "      <td>...</td>\n",
       "      <td>0</td>\n",
       "      <td>0</td>\n",
       "      <td>0</td>\n",
       "      <td>0</td>\n",
       "      <td>0</td>\n",
       "      <td>7.2</td>\n",
       "      <td>50</td>\n",
       "      <td>2</td>\n",
       "      <td>30</td>\n",
       "      <td>2</td>\n",
       "    </tr>\n",
       "    <tr>\n",
       "      <th>31937</th>\n",
       "      <td>0</td>\n",
       "      <td>0</td>\n",
       "      <td>0</td>\n",
       "      <td>0</td>\n",
       "      <td>1</td>\n",
       "      <td>0</td>\n",
       "      <td>0</td>\n",
       "      <td>0</td>\n",
       "      <td>0</td>\n",
       "      <td>1</td>\n",
       "      <td>...</td>\n",
       "      <td>0</td>\n",
       "      <td>0</td>\n",
       "      <td>0</td>\n",
       "      <td>0</td>\n",
       "      <td>1</td>\n",
       "      <td>12.2</td>\n",
       "      <td>63</td>\n",
       "      <td>6</td>\n",
       "      <td>32</td>\n",
       "      <td>3</td>\n",
       "    </tr>\n",
       "    <tr>\n",
       "      <th>49872</th>\n",
       "      <td>0</td>\n",
       "      <td>0</td>\n",
       "      <td>0</td>\n",
       "      <td>0</td>\n",
       "      <td>1</td>\n",
       "      <td>0</td>\n",
       "      <td>0</td>\n",
       "      <td>0</td>\n",
       "      <td>0</td>\n",
       "      <td>1</td>\n",
       "      <td>...</td>\n",
       "      <td>0</td>\n",
       "      <td>0</td>\n",
       "      <td>0</td>\n",
       "      <td>1</td>\n",
       "      <td>0</td>\n",
       "      <td>10.6</td>\n",
       "      <td>51</td>\n",
       "      <td>4</td>\n",
       "      <td>14</td>\n",
       "      <td>2</td>\n",
       "    </tr>\n",
       "    <tr>\n",
       "      <th>5378</th>\n",
       "      <td>0</td>\n",
       "      <td>0</td>\n",
       "      <td>0</td>\n",
       "      <td>1</td>\n",
       "      <td>0</td>\n",
       "      <td>0</td>\n",
       "      <td>0</td>\n",
       "      <td>0</td>\n",
       "      <td>0</td>\n",
       "      <td>0</td>\n",
       "      <td>...</td>\n",
       "      <td>0</td>\n",
       "      <td>0</td>\n",
       "      <td>0</td>\n",
       "      <td>0</td>\n",
       "      <td>0</td>\n",
       "      <td>19.2</td>\n",
       "      <td>142</td>\n",
       "      <td>7</td>\n",
       "      <td>48</td>\n",
       "      <td>4</td>\n",
       "    </tr>\n",
       "    <tr>\n",
       "      <th>54808</th>\n",
       "      <td>0</td>\n",
       "      <td>0</td>\n",
       "      <td>0</td>\n",
       "      <td>1</td>\n",
       "      <td>0</td>\n",
       "      <td>0</td>\n",
       "      <td>0</td>\n",
       "      <td>0</td>\n",
       "      <td>0</td>\n",
       "      <td>0</td>\n",
       "      <td>...</td>\n",
       "      <td>0</td>\n",
       "      <td>0</td>\n",
       "      <td>0</td>\n",
       "      <td>0</td>\n",
       "      <td>0</td>\n",
       "      <td>12.2</td>\n",
       "      <td>94</td>\n",
       "      <td>3</td>\n",
       "      <td>29</td>\n",
       "      <td>2</td>\n",
       "    </tr>\n",
       "  </tbody>\n",
       "</table>\n",
       "<p>22899 rows × 31 columns</p>\n",
       "</div>"
      ],
      "text/plain": [
       "       bat_team_Chennai Super Kings  bat_team_Delhi Daredevils  \\\n",
       "3018                              0                          0   \n",
       "5230                              0                          0   \n",
       "5185                              0                          0   \n",
       "63203                             0                          0   \n",
       "68956                             0                          0   \n",
       "...                             ...                        ...   \n",
       "41038                             0                          1   \n",
       "31937                             0                          0   \n",
       "49872                             0                          0   \n",
       "5378                              0                          0   \n",
       "54808                             0                          0   \n",
       "\n",
       "       bat_team_Kings XI Punjab  bat_team_Kolkata Knight Riders  \\\n",
       "3018                          0                               0   \n",
       "5230                          0                               0   \n",
       "5185                          0                               0   \n",
       "63203                         0                               0   \n",
       "68956                         0                               0   \n",
       "...                         ...                             ...   \n",
       "41038                         0                               0   \n",
       "31937                         0                               0   \n",
       "49872                         0                               0   \n",
       "5378                          0                               1   \n",
       "54808                         0                               1   \n",
       "\n",
       "       bat_team_Mumbai Indians  bat_team_Rajasthan Royals  \\\n",
       "3018                         0                          0   \n",
       "5230                         0                          0   \n",
       "5185                         0                          0   \n",
       "63203                        0                          0   \n",
       "68956                        0                          0   \n",
       "...                        ...                        ...   \n",
       "41038                        0                          0   \n",
       "31937                        1                          0   \n",
       "49872                        1                          0   \n",
       "5378                         0                          0   \n",
       "54808                        0                          0   \n",
       "\n",
       "       bat_team_Royal Challengers Bangalore  bat_team_Sunrisers Hyderabad  \\\n",
       "3018                                      1                             0   \n",
       "5230                                      1                             0   \n",
       "5185                                      1                             0   \n",
       "63203                                     1                             0   \n",
       "68956                                     0                             1   \n",
       "...                                     ...                           ...   \n",
       "41038                                     0                             0   \n",
       "31937                                     0                             0   \n",
       "49872                                     0                             0   \n",
       "5378                                      0                             0   \n",
       "54808                                     0                             0   \n",
       "\n",
       "       bowl_team_Chennai Super Kings  bowl_team_Delhi Daredevils  ...  \\\n",
       "3018                               0                           0  ...   \n",
       "5230                               0                           1  ...   \n",
       "5185                               0                           1  ...   \n",
       "63203                              0                           1  ...   \n",
       "68956                              0                           0  ...   \n",
       "...                              ...                         ...  ...   \n",
       "41038                              0                           0  ...   \n",
       "31937                              0                           1  ...   \n",
       "49872                              0                           1  ...   \n",
       "5378                               0                           0  ...   \n",
       "54808                              0                           0  ...   \n",
       "\n",
       "       venue_Punjab Cricket Association Stadium, Mohali  \\\n",
       "3018                                                  0   \n",
       "5230                                                  0   \n",
       "5185                                                  0   \n",
       "63203                                                 0   \n",
       "68956                                                 0   \n",
       "...                                                 ...   \n",
       "41038                                                 0   \n",
       "31937                                                 0   \n",
       "49872                                                 0   \n",
       "5378                                                  0   \n",
       "54808                                                 0   \n",
       "\n",
       "       venue_Rajiv Gandhi International Stadium, Uppal  \\\n",
       "3018                                                 0   \n",
       "5230                                                 0   \n",
       "5185                                                 0   \n",
       "63203                                                0   \n",
       "68956                                                1   \n",
       "...                                                ...   \n",
       "41038                                                0   \n",
       "31937                                                0   \n",
       "49872                                                0   \n",
       "5378                                                 0   \n",
       "54808                                                0   \n",
       "\n",
       "       venue_Sardar Patel Stadium, Motera  venue_Sharjah Cricket Stadium  \\\n",
       "3018                                    0                              0   \n",
       "5230                                    0                              0   \n",
       "5185                                    0                              0   \n",
       "63203                                   0                              0   \n",
       "68956                                   0                              0   \n",
       "...                                   ...                            ...   \n",
       "41038                                   0                              0   \n",
       "31937                                   0                              0   \n",
       "49872                                   0                              1   \n",
       "5378                                    0                              0   \n",
       "54808                                   0                              0   \n",
       "\n",
       "       venue_Wankhede Stadium  overs  runs  wickets  runs_last_5  \\\n",
       "3018                        0    7.5    36        3           25   \n",
       "5230                        0   14.6   102        3           31   \n",
       "5185                        0    7.4    53        2           31   \n",
       "63203                       0    5.4    58        1           58   \n",
       "68956                       0   15.2   151        3           58   \n",
       "...                       ...    ...   ...      ...          ...   \n",
       "41038                       0    7.2    50        2           30   \n",
       "31937                       1   12.2    63        6           32   \n",
       "49872                       0   10.6    51        4           14   \n",
       "5378                        0   19.2   142        7           48   \n",
       "54808                       0   12.2    94        3           29   \n",
       "\n",
       "       wickets_last_5  \n",
       "3018                1  \n",
       "5230                1  \n",
       "5185                2  \n",
       "63203               0  \n",
       "68956               1  \n",
       "...               ...  \n",
       "41038               2  \n",
       "31937               3  \n",
       "49872               2  \n",
       "5378                4  \n",
       "54808               2  \n",
       "\n",
       "[22899 rows x 31 columns]"
      ]
     },
     "execution_count": 27,
     "metadata": {},
     "output_type": "execute_result"
    }
   ],
   "source": [
    "X_train"
   ]
  },
  {
   "cell_type": "markdown",
   "id": "db4899ee",
   "metadata": {
    "papermill": {
     "duration": 0.017402,
     "end_time": "2022-08-27T12:16:03.728455",
     "exception": false,
     "start_time": "2022-08-27T12:16:03.711053",
     "status": "completed"
    },
    "tags": []
   },
   "source": [
    "# Linear Regression"
   ]
  },
  {
   "cell_type": "code",
   "execution_count": 28,
   "id": "ea50bf90",
   "metadata": {
    "execution": {
     "iopub.execute_input": "2022-08-27T12:16:03.765526Z",
     "iopub.status.busy": "2022-08-27T12:16:03.764821Z",
     "iopub.status.idle": "2022-08-27T12:16:03.900757Z",
     "shell.execute_reply": "2022-08-27T12:16:03.899431Z"
    },
    "papermill": {
     "duration": 0.158458,
     "end_time": "2022-08-27T12:16:03.904607",
     "exception": false,
     "start_time": "2022-08-27T12:16:03.746149",
     "status": "completed"
    },
    "tags": []
   },
   "outputs": [
    {
     "data": {
      "text/plain": [
       "LinearRegression()"
      ]
     },
     "execution_count": 28,
     "metadata": {},
     "output_type": "execute_result"
    }
   ],
   "source": [
    "from sklearn.linear_model import LinearRegression\n",
    "linear_regressor = LinearRegression()\n",
    "linear_regressor.fit(X_train, y_train)"
   ]
  },
  {
   "cell_type": "code",
   "execution_count": 29,
   "id": "7633c309",
   "metadata": {
    "execution": {
     "iopub.execute_input": "2022-08-27T12:16:04.000216Z",
     "iopub.status.busy": "2022-08-27T12:16:03.999306Z",
     "iopub.status.idle": "2022-08-27T12:16:04.012661Z",
     "shell.execute_reply": "2022-08-27T12:16:04.011285Z"
    },
    "papermill": {
     "duration": 0.064708,
     "end_time": "2022-08-27T12:16:04.015792",
     "exception": false,
     "start_time": "2022-08-27T12:16:03.951084",
     "status": "completed"
    },
    "tags": []
   },
   "outputs": [],
   "source": [
    "y_pred_lr = linear_regressor.predict(X_test)"
   ]
  },
  {
   "cell_type": "code",
   "execution_count": 30,
   "id": "041a9e1b",
   "metadata": {
    "execution": {
     "iopub.execute_input": "2022-08-27T12:16:04.111985Z",
     "iopub.status.busy": "2022-08-27T12:16:04.111277Z",
     "iopub.status.idle": "2022-08-27T12:16:04.132944Z",
     "shell.execute_reply": "2022-08-27T12:16:04.132086Z"
    },
    "papermill": {
     "duration": 0.071856,
     "end_time": "2022-08-27T12:16:04.135308",
     "exception": false,
     "start_time": "2022-08-27T12:16:04.063452",
     "status": "completed"
    },
    "tags": []
   },
   "outputs": [
    {
     "name": "stdout",
     "output_type": "stream",
     "text": [
      "---- Linear Regression - Model Evaluation ----\n",
      "Mean Absolute Error (MAE): 12.786807186813943\n",
      "Mean Squared Error (MSE): 285.2331570433189\n",
      "Root Mean Squared Error (RMSE): 16.888847120017367\n",
      "R2 Score : 0.67\n"
     ]
    }
   ],
   "source": [
    "from sklearn.metrics import mean_absolute_error as mae, mean_squared_error as mse\n",
    "from sklearn.metrics import r2_score\n",
    "print(\"---- Linear Regression - Model Evaluation ----\")\n",
    "print(\"Mean Absolute Error (MAE): {}\".format(mae(y_test, y_pred_lr)))\n",
    "print(\"Mean Squared Error (MSE): {}\".format(mse(y_test, y_pred_lr)))\n",
    "print(\"Root Mean Squared Error (RMSE): {}\".format(np.sqrt(mse(y_test, y_pred_lr))))\n",
    "print(\"R2 Score : %.2f\" %r2_score(y_test,y_pred_lr))"
   ]
  },
  {
   "cell_type": "markdown",
   "id": "5549669b",
   "metadata": {
    "papermill": {
     "duration": 0.017288,
     "end_time": "2022-08-27T12:16:04.170431",
     "exception": false,
     "start_time": "2022-08-27T12:16:04.153143",
     "status": "completed"
    },
    "tags": []
   },
   "source": [
    "# Logistic Regression"
   ]
  },
  {
   "cell_type": "code",
   "execution_count": 31,
   "id": "f15d1a3a",
   "metadata": {
    "execution": {
     "iopub.execute_input": "2022-08-27T12:16:04.207884Z",
     "iopub.status.busy": "2022-08-27T12:16:04.207110Z",
     "iopub.status.idle": "2022-08-27T12:16:31.097901Z",
     "shell.execute_reply": "2022-08-27T12:16:31.096787Z"
    },
    "papermill": {
     "duration": 26.912401,
     "end_time": "2022-08-27T12:16:31.100313",
     "exception": false,
     "start_time": "2022-08-27T12:16:04.187912",
     "status": "completed"
    },
    "tags": []
   },
   "outputs": [
    {
     "data": {
      "text/plain": [
       "LogisticRegression(solver='liblinear')"
      ]
     },
     "execution_count": 31,
     "metadata": {},
     "output_type": "execute_result"
    }
   ],
   "source": [
    "from sklearn.linear_model import LogisticRegression\n",
    "logistic_regressor = LogisticRegression(solver='liblinear')\n",
    "logistic_regressor.fit(X_train, y_train)"
   ]
  },
  {
   "cell_type": "code",
   "execution_count": 32,
   "id": "29a8b313",
   "metadata": {
    "execution": {
     "iopub.execute_input": "2022-08-27T12:16:31.138811Z",
     "iopub.status.busy": "2022-08-27T12:16:31.138136Z",
     "iopub.status.idle": "2022-08-27T12:16:31.161017Z",
     "shell.execute_reply": "2022-08-27T12:16:31.159746Z"
    },
    "papermill": {
     "duration": 0.046742,
     "end_time": "2022-08-27T12:16:31.165267",
     "exception": false,
     "start_time": "2022-08-27T12:16:31.118525",
     "status": "completed"
    },
    "tags": []
   },
   "outputs": [],
   "source": [
    "y_pred_lgr = logistic_regressor.predict(X_test)"
   ]
  },
  {
   "cell_type": "code",
   "execution_count": 33,
   "id": "6faa0d34",
   "metadata": {
    "execution": {
     "iopub.execute_input": "2022-08-27T12:16:31.262363Z",
     "iopub.status.busy": "2022-08-27T12:16:31.261430Z",
     "iopub.status.idle": "2022-08-27T12:16:31.275225Z",
     "shell.execute_reply": "2022-08-27T12:16:31.274045Z"
    },
    "papermill": {
     "duration": 0.064807,
     "end_time": "2022-08-27T12:16:31.277383",
     "exception": false,
     "start_time": "2022-08-27T12:16:31.212576",
     "status": "completed"
    },
    "tags": []
   },
   "outputs": [
    {
     "name": "stdout",
     "output_type": "stream",
     "text": [
      "---- Logistic Regression - Model Evaluation ----\n",
      "Mean Absolute Error (MAE): 6.881397379912664\n",
      "Mean Squared Error (MSE): 223.58393013100437\n",
      "Root Mean Squared Error (RMSE): 14.952723167737854\n",
      "R2 Score : 0.74\n"
     ]
    }
   ],
   "source": [
    "print(\"---- Logistic Regression - Model Evaluation ----\")\n",
    "print(\"Mean Absolute Error (MAE): {}\".format(mae(y_test, y_pred_lgr)))\n",
    "print(\"Mean Squared Error (MSE): {}\".format(mse(y_test, y_pred_lgr)))\n",
    "print(\"Root Mean Squared Error (RMSE): {}\".format(np.sqrt(mse(y_test, y_pred_lgr))))\n",
    "print(\"R2 Score : %.2f\" % r2_score(y_test,y_pred_lgr))"
   ]
  },
  {
   "cell_type": "markdown",
   "id": "04eddee6",
   "metadata": {
    "papermill": {
     "duration": 0.01797,
     "end_time": "2022-08-27T12:16:31.313984",
     "exception": false,
     "start_time": "2022-08-27T12:16:31.296014",
     "status": "completed"
    },
    "tags": []
   },
   "source": [
    "# Decision Tree"
   ]
  },
  {
   "cell_type": "code",
   "execution_count": 34,
   "id": "ab08bfc3",
   "metadata": {
    "execution": {
     "iopub.execute_input": "2022-08-27T12:16:31.352398Z",
     "iopub.status.busy": "2022-08-27T12:16:31.351435Z",
     "iopub.status.idle": "2022-08-27T12:16:31.568024Z",
     "shell.execute_reply": "2022-08-27T12:16:31.566922Z"
    },
    "papermill": {
     "duration": 0.238256,
     "end_time": "2022-08-27T12:16:31.570382",
     "exception": false,
     "start_time": "2022-08-27T12:16:31.332126",
     "status": "completed"
    },
    "tags": []
   },
   "outputs": [
    {
     "data": {
      "text/plain": [
       "DecisionTreeRegressor(min_samples_leaf=1e-06)"
      ]
     },
     "execution_count": 34,
     "metadata": {},
     "output_type": "execute_result"
    }
   ],
   "source": [
    "from sklearn.tree import DecisionTreeRegressor\n",
    "decision_regressor = DecisionTreeRegressor(min_samples_leaf=.000001)\n",
    "decision_regressor.fit(X_train,y_train)"
   ]
  },
  {
   "cell_type": "code",
   "execution_count": 35,
   "id": "94bec314",
   "metadata": {
    "execution": {
     "iopub.execute_input": "2022-08-27T12:16:31.608357Z",
     "iopub.status.busy": "2022-08-27T12:16:31.607586Z",
     "iopub.status.idle": "2022-08-27T12:16:31.616379Z",
     "shell.execute_reply": "2022-08-27T12:16:31.615667Z"
    },
    "papermill": {
     "duration": 0.030283,
     "end_time": "2022-08-27T12:16:31.618587",
     "exception": false,
     "start_time": "2022-08-27T12:16:31.588304",
     "status": "completed"
    },
    "tags": []
   },
   "outputs": [],
   "source": [
    "y_pred_dt = decision_regressor.predict(X_test)"
   ]
  },
  {
   "cell_type": "code",
   "execution_count": 36,
   "id": "0ac73ee5",
   "metadata": {
    "execution": {
     "iopub.execute_input": "2022-08-27T12:16:31.657189Z",
     "iopub.status.busy": "2022-08-27T12:16:31.656478Z",
     "iopub.status.idle": "2022-08-27T12:16:31.665488Z",
     "shell.execute_reply": "2022-08-27T12:16:31.664377Z"
    },
    "papermill": {
     "duration": 0.030662,
     "end_time": "2022-08-27T12:16:31.667616",
     "exception": false,
     "start_time": "2022-08-27T12:16:31.636954",
     "status": "completed"
    },
    "tags": []
   },
   "outputs": [
    {
     "name": "stdout",
     "output_type": "stream",
     "text": [
      "---- Decision Tree Regression - Model Evaluation ----\n",
      "Mean Absolute Error (MAE): 2.576768558951965\n",
      "Mean Squared Error (MSE): 75.40646288209606\n",
      "Root Mean Squared Error(RMSE): 8.683689474071263\n",
      "R2 score : 0.91\n"
     ]
    }
   ],
   "source": [
    "print(\"---- Decision Tree Regression - Model Evaluation ----\")\n",
    "print(\"Mean Absolute Error (MAE): {}\".format(mae(y_test, y_pred_dt)))\n",
    "print(\"Mean Squared Error (MSE): {}\".format(mse(y_test, y_pred_dt)))\n",
    "print(\"Root Mean Squared Error(RMSE): {}\".format(np.sqrt(mse(y_test, y_pred_dt))))\n",
    "print(\"R2 score : %.2f\" % r2_score(y_test,y_pred_dt))"
   ]
  },
  {
   "cell_type": "markdown",
   "id": "ce20ea38",
   "metadata": {
    "papermill": {
     "duration": 0.017945,
     "end_time": "2022-08-27T12:16:31.703816",
     "exception": false,
     "start_time": "2022-08-27T12:16:31.685871",
     "status": "completed"
    },
    "tags": []
   },
   "source": [
    "# Random Forest"
   ]
  },
  {
   "cell_type": "code",
   "execution_count": 37,
   "id": "f285bc6e",
   "metadata": {
    "execution": {
     "iopub.execute_input": "2022-08-27T12:16:31.742618Z",
     "iopub.status.busy": "2022-08-27T12:16:31.741628Z",
     "iopub.status.idle": "2022-08-27T12:16:40.260587Z",
     "shell.execute_reply": "2022-08-27T12:16:40.259613Z"
    },
    "papermill": {
     "duration": 8.540947,
     "end_time": "2022-08-27T12:16:40.263002",
     "exception": false,
     "start_time": "2022-08-27T12:16:31.722055",
     "status": "completed"
    },
    "tags": []
   },
   "outputs": [
    {
     "data": {
      "text/plain": [
       "RandomForestRegressor()"
      ]
     },
     "execution_count": 37,
     "metadata": {},
     "output_type": "execute_result"
    }
   ],
   "source": [
    "from sklearn.ensemble import RandomForestRegressor\n",
    "random_regressor = RandomForestRegressor()\n",
    "random_regressor.fit(X_train, y_train)"
   ]
  },
  {
   "cell_type": "code",
   "execution_count": 38,
   "id": "5d1a76cf",
   "metadata": {
    "execution": {
     "iopub.execute_input": "2022-08-27T12:16:40.301300Z",
     "iopub.status.busy": "2022-08-27T12:16:40.300888Z",
     "iopub.status.idle": "2022-08-27T12:16:40.463975Z",
     "shell.execute_reply": "2022-08-27T12:16:40.463140Z"
    },
    "papermill": {
     "duration": 0.185064,
     "end_time": "2022-08-27T12:16:40.466423",
     "exception": false,
     "start_time": "2022-08-27T12:16:40.281359",
     "status": "completed"
    },
    "tags": []
   },
   "outputs": [],
   "source": [
    "y_pred_rf = random_regressor.predict(X_test)"
   ]
  },
  {
   "cell_type": "code",
   "execution_count": 39,
   "id": "915bc52f",
   "metadata": {
    "execution": {
     "iopub.execute_input": "2022-08-27T12:16:40.505724Z",
     "iopub.status.busy": "2022-08-27T12:16:40.504681Z",
     "iopub.status.idle": "2022-08-27T12:16:40.514438Z",
     "shell.execute_reply": "2022-08-27T12:16:40.513272Z"
    },
    "papermill": {
     "duration": 0.03236,
     "end_time": "2022-08-27T12:16:40.517509",
     "exception": false,
     "start_time": "2022-08-27T12:16:40.485149",
     "status": "completed"
    },
    "tags": []
   },
   "outputs": [
    {
     "name": "stdout",
     "output_type": "stream",
     "text": [
      "---- Random Forest Regression - Model Evaluation ----\n",
      "Mean Absolute Error (MAE): 3.1077433770014555\n",
      "Mean Squared Error (MSE): 31.08490012918486\n",
      "Root Mean Squared Error (RMSE): 5.575383406473931\n",
      "R2 score : 0.96\n"
     ]
    }
   ],
   "source": [
    "# Random Forest Regression - Model Evaluation\n",
    "print(\"---- Random Forest Regression - Model Evaluation ----\")\n",
    "print(\"Mean Absolute Error (MAE): {}\".format(mae(y_test, y_pred_rf)))\n",
    "print(\"Mean Squared Error (MSE): {}\".format(mse(y_test, y_pred_rf)))\n",
    "print(\"Root Mean Squared Error (RMSE): {}\".format(np.sqrt(mse(y_test, y_pred_rf))))\n",
    "print(\"R2 score : %.2f\" % r2_score(y_test,y_pred_rf))"
   ]
  },
  {
   "cell_type": "markdown",
   "id": "69c641c4",
   "metadata": {
    "papermill": {
     "duration": 0.018141,
     "end_time": "2022-08-27T12:16:40.554645",
     "exception": false,
     "start_time": "2022-08-27T12:16:40.536504",
     "status": "completed"
    },
    "tags": []
   },
   "source": [
    "# Gradient Boosting Regressor"
   ]
  },
  {
   "cell_type": "code",
   "execution_count": 40,
   "id": "7780579f",
   "metadata": {
    "execution": {
     "iopub.execute_input": "2022-08-27T12:16:40.592432Z",
     "iopub.status.busy": "2022-08-27T12:16:40.591994Z",
     "iopub.status.idle": "2022-08-27T12:16:40.750298Z",
     "shell.execute_reply": "2022-08-27T12:16:40.749585Z"
    },
    "papermill": {
     "duration": 0.179767,
     "end_time": "2022-08-27T12:16:40.752539",
     "exception": false,
     "start_time": "2022-08-27T12:16:40.572772",
     "status": "completed"
    },
    "tags": []
   },
   "outputs": [],
   "source": [
    "from sklearn.ensemble import GradientBoostingRegressor\n",
    "from sklearn.ensemble import  ExtraTreesRegressor\n",
    "import xgboost\n",
    "from xgboost import XGBRegressor"
   ]
  },
  {
   "cell_type": "code",
   "execution_count": 41,
   "id": "5322dcc4",
   "metadata": {
    "execution": {
     "iopub.execute_input": "2022-08-27T12:16:40.791304Z",
     "iopub.status.busy": "2022-08-27T12:16:40.790639Z",
     "iopub.status.idle": "2022-08-27T12:20:35.301898Z",
     "shell.execute_reply": "2022-08-27T12:20:35.301053Z"
    },
    "papermill": {
     "duration": 234.533476,
     "end_time": "2022-08-27T12:20:35.304335",
     "exception": false,
     "start_time": "2022-08-27T12:16:40.770859",
     "status": "completed"
    },
    "tags": []
   },
   "outputs": [],
   "source": [
    "gbr=GradientBoostingRegressor(n_estimators=10000)\n",
    "gbr.fit(X_train,y_train)\n",
    "y_pred_gbr = gbr.predict(X_test)"
   ]
  },
  {
   "cell_type": "code",
   "execution_count": 42,
   "id": "31495c08",
   "metadata": {
    "execution": {
     "iopub.execute_input": "2022-08-27T12:20:35.344299Z",
     "iopub.status.busy": "2022-08-27T12:20:35.343767Z",
     "iopub.status.idle": "2022-08-27T12:20:35.353832Z",
     "shell.execute_reply": "2022-08-27T12:20:35.352498Z"
    },
    "papermill": {
     "duration": 0.032897,
     "end_time": "2022-08-27T12:20:35.356767",
     "exception": false,
     "start_time": "2022-08-27T12:20:35.323870",
     "status": "completed"
    },
    "tags": []
   },
   "outputs": [
    {
     "name": "stdout",
     "output_type": "stream",
     "text": [
      "---- Gradient Boosting Regression - Model Evaluation ----\n",
      "Mean Absolute Error (MAE): 5.659809601333862\n",
      "Mean Squared Error (MSE): 66.52633907894311\n",
      "Root Mean Squared Error (RMSE): 8.15636800781715\n",
      "R2 score : 0.92\n"
     ]
    }
   ],
   "source": [
    "# Gradient Boosting Regression - Model Evaluation\n",
    "print(\"---- Gradient Boosting Regression - Model Evaluation ----\")\n",
    "print(\"Mean Absolute Error (MAE): {}\".format(mae(y_test, y_pred_gbr)))\n",
    "print(\"Mean Squared Error (MSE): {}\".format(mse(y_test, y_pred_gbr)))\n",
    "print(\"Root Mean Squared Error (RMSE): {}\".format(np.sqrt(mse(y_test, y_pred_gbr))))\n",
    "print(\"R2 score : %.2f\" % r2_score(y_test,y_pred_gbr))"
   ]
  },
  {
   "cell_type": "markdown",
   "id": "dfe5756c",
   "metadata": {
    "papermill": {
     "duration": 0.018552,
     "end_time": "2022-08-27T12:20:35.394515",
     "exception": false,
     "start_time": "2022-08-27T12:20:35.375963",
     "status": "completed"
    },
    "tags": []
   },
   "source": [
    "# Extra Tree Regressor"
   ]
  },
  {
   "cell_type": "code",
   "execution_count": 43,
   "id": "bbe4e9e0",
   "metadata": {
    "execution": {
     "iopub.execute_input": "2022-08-27T12:20:35.433591Z",
     "iopub.status.busy": "2022-08-27T12:20:35.432700Z",
     "iopub.status.idle": "2022-08-27T12:21:55.525241Z",
     "shell.execute_reply": "2022-08-27T12:21:55.524124Z"
    },
    "papermill": {
     "duration": 80.115323,
     "end_time": "2022-08-27T12:21:55.528126",
     "exception": false,
     "start_time": "2022-08-27T12:20:35.412803",
     "status": "completed"
    },
    "tags": []
   },
   "outputs": [],
   "source": [
    "etr=ExtraTreesRegressor(n_estimators=1000)\n",
    "etr.fit(X_train,y_train)\n",
    "y_pred_etr = etr.predict(X_test)"
   ]
  },
  {
   "cell_type": "code",
   "execution_count": 44,
   "id": "4d6e5894",
   "metadata": {
    "execution": {
     "iopub.execute_input": "2022-08-27T12:21:55.566970Z",
     "iopub.status.busy": "2022-08-27T12:21:55.566568Z",
     "iopub.status.idle": "2022-08-27T12:21:55.576329Z",
     "shell.execute_reply": "2022-08-27T12:21:55.575258Z"
    },
    "papermill": {
     "duration": 0.031207,
     "end_time": "2022-08-27T12:21:55.578265",
     "exception": false,
     "start_time": "2022-08-27T12:21:55.547058",
     "status": "completed"
    },
    "tags": []
   },
   "outputs": [
    {
     "name": "stdout",
     "output_type": "stream",
     "text": [
      "---- Extra Trees Regression - Model Evaluation ----\n",
      "Mean Absol.ute Error (MAE): 1.3748949344978165\n",
      "Mean Squared Error (MSE): 13.361110612183406\n",
      "Root Mean Squared Error (RMSE): 3.655285298329449\n",
      "R2 score : 0.98\n"
     ]
    }
   ],
   "source": [
    "# Extra Trees Regression - Model Evaluation\n",
    "print(\"---- Extra Trees Regression - Model Evaluation ----\")\n",
    "print(\"Mean Absol.ute Error (MAE): {}\".format(mae(y_test, y_pred_etr)))\n",
    "print(\"Mean Squared Error (MSE): {}\".format(mse(y_test, y_pred_etr)))\n",
    "print(\"Root Mean Squared Error (RMSE): {}\".format(np.sqrt(mse(y_test, y_pred_etr))))\n",
    "print(\"R2 score : %.2f\" % r2_score(y_test,y_pred_etr))"
   ]
  },
  {
   "cell_type": "markdown",
   "id": "d3bedf0b",
   "metadata": {
    "papermill": {
     "duration": 0.018704,
     "end_time": "2022-08-27T12:21:55.615767",
     "exception": false,
     "start_time": "2022-08-27T12:21:55.597063",
     "status": "completed"
    },
    "tags": []
   },
   "source": [
    "# XGB Regressor"
   ]
  },
  {
   "cell_type": "code",
   "execution_count": 45,
   "id": "6c0a112b",
   "metadata": {
    "execution": {
     "iopub.execute_input": "2022-08-27T12:21:55.655622Z",
     "iopub.status.busy": "2022-08-27T12:21:55.654659Z",
     "iopub.status.idle": "2022-08-27T12:25:05.755374Z",
     "shell.execute_reply": "2022-08-27T12:25:05.754581Z"
    },
    "papermill": {
     "duration": 190.14443,
     "end_time": "2022-08-27T12:25:05.778978",
     "exception": false,
     "start_time": "2022-08-27T12:21:55.634548",
     "status": "completed"
    },
    "tags": []
   },
   "outputs": [
    {
     "name": "stdout",
     "output_type": "stream",
     "text": [
      "---- XGBoost Regression - Model Evaluation ----\n",
      "Mean Absolute Error (MAE): 3.178453401124113\n",
      "Mean Squared Error (MSE): 28.50045827053632\n",
      "Root Mean Squared Error (RMSE): 5.338582046811337\n",
      "R2 score : 0.97\n"
     ]
    }
   ],
   "source": [
    "xgbr=XGBRegressor(n_estimators=10000)\n",
    "xgbr.fit(X_train,y_train)\n",
    "y_pred_xgbr = xgbr.predict(X_test)\n",
    "print(\"---- XGBoost Regression - Model Evaluation ----\")\n",
    "print(\"Mean Absolute Error (MAE): {}\".format(mae(y_test, y_pred_xgbr)))\n",
    "print(\"Mean Squared Error (MSE): {}\".format(mse(y_test, y_pred_xgbr)))\n",
    "print(\"Root Mean Squared Error (RMSE): {}\".format(np.sqrt(mse(y_test, y_pred_xgbr))))\n",
    "print(\"R2 score : %.2f\" % r2_score(y_test,y_pred_xgbr))"
   ]
  },
  {
   "cell_type": "markdown",
   "id": "6b748537",
   "metadata": {
    "papermill": {
     "duration": 0.018188,
     "end_time": "2022-08-27T12:25:05.816095",
     "exception": false,
     "start_time": "2022-08-27T12:25:05.797907",
     "status": "completed"
    },
    "tags": []
   },
   "source": [
    "# Predictions"
   ]
  },
  {
   "cell_type": "code",
   "execution_count": 46,
   "id": "8abe6bf1",
   "metadata": {
    "execution": {
     "iopub.execute_input": "2022-08-27T12:25:05.855096Z",
     "iopub.status.busy": "2022-08-27T12:25:05.854055Z",
     "iopub.status.idle": "2022-08-27T12:25:05.874343Z",
     "shell.execute_reply": "2022-08-27T12:25:05.873496Z"
    },
    "papermill": {
     "duration": 0.042263,
     "end_time": "2022-08-27T12:25:05.876699",
     "exception": false,
     "start_time": "2022-08-27T12:25:05.834436",
     "status": "completed"
    },
    "tags": []
   },
   "outputs": [],
   "source": [
    "def predict_score(batting_team, bowling_team, venue, overs, runs, wickets, runs_in_prev_5, wickets_in_prev_5):\n",
    "  temp_array = list()\n",
    "\n",
    "  # Batting Team\n",
    "  if batting_team == 'Chennai Super Kings':\n",
    "    temp_array = temp_array + [1,0,0,0,0,0,0,0]\n",
    "  elif batting_team == 'Delhi Daredevils':\n",
    "    temp_array = temp_array + [0,1,0,0,0,0,0,0]\n",
    "  elif batting_team == 'Kings XI Punjab':\n",
    "    temp_array = temp_array + [0,0,1,0,0,0,0,0]\n",
    "  elif batting_team == 'Kolkata Knight Riders':\n",
    "    temp_array = temp_array + [0,0,0,1,0,0,0,0]\n",
    "  elif batting_team == 'Mumbai Indians':\n",
    "    temp_array = temp_array + [0,0,0,0,1,0,0,0]\n",
    "  elif batting_team == 'Rajasthan Royals':\n",
    "    temp_array = temp_array + [0,0,0,0,0,1,0,0]\n",
    "  elif batting_team == 'Royal Challengers Bangalore':\n",
    "    temp_array = temp_array + [0,0,0,0,0,0,1,0]\n",
    "  elif batting_team == 'Sunrisers Hyderabad':\n",
    "    temp_array = temp_array + [0,0,0,0,0,0,0,1]\n",
    "\n",
    "  # Bowling Team\n",
    "  if bowling_team == 'Chennai Super Kings':\n",
    "    temp_array = temp_array + [1,0,0,0,0,0,0,0]\n",
    "  elif bowling_team == 'Delhi Daredevils':\n",
    "    temp_array = temp_array + [0,1,0,0,0,0,0,0]\n",
    "  elif bowling_team == 'Kings XI Punjab':\n",
    "    temp_array = temp_array + [0,0,1,0,0,0,0,0]\n",
    "  elif bowling_team == 'Kolkata Knight Riders':\n",
    "    temp_array = temp_array + [0,0,0,1,0,0,0,0]\n",
    "  elif bowling_team == 'Mumbai Indians':\n",
    "    temp_array = temp_array + [0,0,0,0,1,0,0,0]\n",
    "  elif bowling_team == 'Rajasthan Royals':\n",
    "    temp_array = temp_array + [0,0,0,0,0,1,0,0]\n",
    "  elif bowling_team == 'Royal Challengers Bangalore':\n",
    "    temp_array = temp_array + [0,0,0,0,0,0,1,0]\n",
    "  elif bowling_team == 'Sunrisers Hyderabad':\n",
    "    temp_array = temp_array + [0,0,0,0,0,0,0,1]\n",
    "    \n",
    "  #venue\n",
    "  if venue == 'Dubai International Cricket Stadium':\n",
    "    temp_array = temp_array + [1,0,0,0,0,0,0,0,0,0]\n",
    "  elif venue == 'Eden Gardens':\n",
    "    temp_array = temp_array + [0,1,0,0,0,0,0,0,0,0]\n",
    "  elif venue == 'M Chinnaswamy Stadium':\n",
    "    temp_array = temp_array + [0,0,1,0,0,0,0,0,0,0]\n",
    "  elif venue == 'MA Chidambaram Stadium, Chepauk':\n",
    "    temp_array = temp_array + [0,0,0,1,0,0,0,0,0,0]\n",
    "  elif venue == 'Punjab Cricket Association IS Bindra Stadium, Mohali':\n",
    "    temp_array = temp_array + [0,0,0,0,1,0,0,0,0,0]\n",
    "  elif venue == 'Punjab Cricket Association Stadium, Mohali':\n",
    "    temp_array = temp_array + [0,0,0,0,0,1,0,0,0,0]\n",
    "  elif venue == 'Rajiv Gandhi International Stadium, Uppal':\n",
    "    temp_array = temp_array + [0,0,0,0,0,0,1,0,0,0]\n",
    "  elif venue == 'Sardar Patel Stadium, Motera':\n",
    "    temp_array = temp_array + [0,0,0,0,0,0,0,1,0,0]\n",
    "  elif venue == 'Sharjah Cricket Stadium':\n",
    "    temp_array = temp_array + [0,0,0,0,0,0,0,0,1,0]\n",
    "  elif venue == 'Wankhede Stadium':\n",
    "    temp_array = temp_array + [0,0,0,0,0,0,0,0,0,1]\n",
    "\n",
    "  # Overs, Runs, Wickets, Runs_in_prev_5, Wickets_in_prev_5\n",
    "  temp_array = temp_array + [overs, runs, wickets, runs_in_prev_5, wickets_in_prev_5]\n",
    "\n",
    "  # Converting into numpy array\n",
    "  temp_array = np.array([temp_array])\n",
    "\n",
    "  # Prediction\n",
    "  return int(etr.predict(temp_array)[0])"
   ]
  },
  {
   "cell_type": "markdown",
   "id": "dc675b2e",
   "metadata": {
    "papermill": {
     "duration": 0.018377,
     "end_time": "2022-08-27T12:25:05.913686",
     "exception": false,
     "start_time": "2022-08-27T12:25:05.895309",
     "status": "completed"
    },
    "tags": []
   },
   "source": [
    "# Prediction 1"
   ]
  },
  {
   "cell_type": "markdown",
   "id": "d0eeb804",
   "metadata": {
    "papermill": {
     "duration": 0.018096,
     "end_time": "2022-08-27T12:25:05.950415",
     "exception": false,
     "start_time": "2022-08-27T12:25:05.932319",
     "status": "completed"
    },
    "tags": []
   },
   "source": [
    "* Date: 16th April 2018\n",
    "* IPL: Season 01\n",
    "* Match number: 36\n",
    "* Teams: Kolkata Knight Riders Vs. Delhi Daredevils\n",
    "* Final Score: 133/6"
   ]
  },
  {
   "cell_type": "code",
   "execution_count": 47,
   "id": "dc0f061c",
   "metadata": {
    "execution": {
     "iopub.execute_input": "2022-08-27T12:25:05.988249Z",
     "iopub.status.busy": "2022-08-27T12:25:05.987754Z",
     "iopub.status.idle": "2022-08-27T12:25:06.078112Z",
     "shell.execute_reply": "2022-08-27T12:25:06.077026Z"
    },
    "papermill": {
     "duration": 0.111933,
     "end_time": "2022-08-27T12:25:06.080588",
     "exception": false,
     "start_time": "2022-08-27T12:25:05.968655",
     "status": "completed"
    },
    "tags": []
   },
   "outputs": [
    {
     "name": "stdout",
     "output_type": "stream",
     "text": [
      "The final predicted score (range): 125 to 141\n"
     ]
    }
   ],
   "source": [
    "final_score = predict_score(batting_team='Kolkata Knight Riders', bowling_team='Delhi Daredevils', venue='Eden Gardens', overs=17.2, runs=111, wickets=4, runs_in_prev_5=26, wickets_in_prev_5=2)\n",
    "print(\"The final predicted score (range): {} to {}\".format(final_score-8, final_score+8))"
   ]
  },
  {
   "cell_type": "markdown",
   "id": "797180ba",
   "metadata": {
    "papermill": {
     "duration": 0.018266,
     "end_time": "2022-08-27T12:25:06.117343",
     "exception": false,
     "start_time": "2022-08-27T12:25:06.099077",
     "status": "completed"
    },
    "tags": []
   },
   "source": [
    "# Prediction2"
   ]
  },
  {
   "cell_type": "markdown",
   "id": "605661a9",
   "metadata": {
    "papermill": {
     "duration": 0.018234,
     "end_time": "2022-08-27T12:25:06.154193",
     "exception": false,
     "start_time": "2022-08-27T12:25:06.135959",
     "status": "completed"
    },
    "tags": []
   },
   "source": [
    "* Date: 5th April 2019\n",
    "* IPL: Season 12\n",
    "* Match number: 17\n",
    "* Teams: Royal Challengers Bangalore Vs. Kolkata Knight Riders\n",
    "* Royal Challenger Bangalore Score: 205/3. overs: 20"
   ]
  },
  {
   "cell_type": "code",
   "execution_count": 48,
   "id": "e17769bf",
   "metadata": {
    "execution": {
     "iopub.execute_input": "2022-08-27T12:25:06.192677Z",
     "iopub.status.busy": "2022-08-27T12:25:06.192252Z",
     "iopub.status.idle": "2022-08-27T12:25:06.284551Z",
     "shell.execute_reply": "2022-08-27T12:25:06.283300Z"
    },
    "papermill": {
     "duration": 0.114401,
     "end_time": "2022-08-27T12:25:06.286953",
     "exception": false,
     "start_time": "2022-08-27T12:25:06.172552",
     "status": "completed"
    },
    "tags": []
   },
   "outputs": [
    {
     "name": "stdout",
     "output_type": "stream",
     "text": [
      "The final predicted score (range): 181 to 196\n"
     ]
    }
   ],
   "source": [
    "final_score = predict_score(batting_team='Royal Challengers Bangalore', bowling_team='Kolkata Knight Riders', venue='M Chinnaswamy Stadium', overs=15, runs=142, wickets=1, runs_in_prev_5=64, wickets_in_prev_5=0)\n",
    "print(\"The final predicted score (range): {} to {}\".format(final_score-10, final_score+5))"
   ]
  },
  {
   "cell_type": "code",
   "execution_count": null,
   "id": "ea49a806",
   "metadata": {
    "papermill": {
     "duration": 0.018214,
     "end_time": "2022-08-27T12:25:06.324404",
     "exception": false,
     "start_time": "2022-08-27T12:25:06.306190",
     "status": "completed"
    },
    "tags": []
   },
   "outputs": [],
   "source": []
  }
 ],
 "metadata": {
  "kernelspec": {
   "display_name": "Python 3 (ipykernel)",
   "language": "python",
   "name": "python3"
  },
  "language_info": {
   "codemirror_mode": {
    "name": "ipython",
    "version": 3
   },
   "file_extension": ".py",
   "mimetype": "text/x-python",
   "name": "python",
   "nbconvert_exporter": "python",
   "pygments_lexer": "ipython3",
   "version": "3.12.4"
  },
  "papermill": {
   "default_parameters": {},
   "duration": 556.778958,
   "end_time": "2022-08-27T12:25:07.165377",
   "environment_variables": {},
   "exception": null,
   "input_path": "__notebook__.ipynb",
   "output_path": "__notebook__.ipynb",
   "parameters": {},
   "start_time": "2022-08-27T12:15:50.386419",
   "version": "2.3.4"
  }
 },
 "nbformat": 4,
 "nbformat_minor": 5
}
